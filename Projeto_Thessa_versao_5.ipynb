{
  "nbformat": 4,
  "nbformat_minor": 0,
  "metadata": {
    "colab": {
      "name": "Projeto_Thessa_versao_5.ipynb",
      "provenance": [],
      "authorship_tag": "ABX9TyP84ebgZhpJ/+UNiNb/FVOu",
      "include_colab_link": true
    },
    "kernelspec": {
      "name": "python3",
      "display_name": "Python 3"
    },
    "language_info": {
      "name": "python"
    }
  },
  "cells": [
    {
      "cell_type": "markdown",
      "metadata": {
        "id": "view-in-github",
        "colab_type": "text"
      },
      "source": [
        "<a href=\"https://colab.research.google.com/github/thessafuzaro/ANN/blob/main/Projeto_Thessa_versao_5.ipynb\" target=\"_parent\"><img src=\"https://colab.research.google.com/assets/colab-badge.svg\" alt=\"Open In Colab\"/></a>"
      ]
    },
    {
      "cell_type": "code",
      "metadata": {
        "id": "RvbXkT6Niq-l",
        "colab": {
          "base_uri": "https://localhost:8080/",
          "height": 53
        },
        "outputId": "db12730a-11a1-4325-af1d-30596075b6b5"
      },
      "source": [
        "'''Primeiro projeto de redes neurais\n",
        "Aluna: Thessa Fuzaro Mendes\n",
        "Artigo: On the optimiation of froth flotation by the use of an artificial neural network [Al-Thyabat S]\n",
        "Data: 26/05/2021'''"
      ],
      "execution_count": 1,
      "outputs": [
        {
          "output_type": "execute_result",
          "data": {
            "application/vnd.google.colaboratory.intrinsic+json": {
              "type": "string"
            },
            "text/plain": [
              "'Primeiro projeto de redes neurais\\nAluna: Thessa Fuzaro Mendes\\nArtigo: On the optimiation of froth flotation by the use of an artificial neural network [Al-Thyabat S]\\nData: 26/05/2021'"
            ]
          },
          "metadata": {
            "tags": []
          },
          "execution_count": 1
        }
      ]
    },
    {
      "cell_type": "code",
      "metadata": {
        "id": "R6aspZiHeEv0"
      },
      "source": [
        "#Bibliotecas necessárias\n",
        "import os\n",
        "import numpy as np   # biblioteca númerica do python\n",
        "import pandas as pd \n",
        "import matplotlib.pyplot as plt\n",
        "from sklearn.neural_network import MLPRegressor\n",
        "from sklearn.model_selection import train_test_split\n",
        "from sklearn.metrics import mean_squared_error\n",
        "from sklearn import preprocessing\n",
        "from sklearn.metrics import r2_score \n",
        "\n",
        "#np.random.seed(0) #utilizado para parar no resultado desejado (não randomizar)"
      ],
      "execution_count": 2,
      "outputs": []
    },
    {
      "cell_type": "code",
      "metadata": {
        "id": "ST4bAw0QxSum"
      },
      "source": [
        "# para gerar o grafico no browser\n",
        "%matplotlib inline"
      ],
      "execution_count": 3,
      "outputs": []
    },
    {
      "cell_type": "code",
      "metadata": {
        "id": "PIY4zsixyqHX",
        "colab": {
          "base_uri": "https://localhost:8080/"
        },
        "outputId": "c1bedf04-7fea-447d-977d-3cda835641cc"
      },
      "source": [
        "!git clone https://github.com/thessafuzaro/ANN\n",
        "%cd ANN"
      ],
      "execution_count": 4,
      "outputs": [
        {
          "output_type": "stream",
          "text": [
            "Cloning into 'ANN'...\n",
            "remote: Enumerating objects: 152, done.\u001b[K\n",
            "remote: Counting objects: 100% (152/152), done.\u001b[K\n",
            "remote: Compressing objects: 100% (150/150), done.\u001b[K\n",
            "remote: Total 152 (delta 88), reused 0 (delta 0), pack-reused 0\u001b[K\n",
            "Receiving objects: 100% (152/152), 262.19 KiB | 7.28 MiB/s, done.\n",
            "Resolving deltas: 100% (88/88), done.\n",
            "/content/ANN\n"
          ],
          "name": "stdout"
        }
      ]
    },
    {
      "cell_type": "code",
      "metadata": {
        "colab": {
          "base_uri": "https://localhost:8080/"
        },
        "id": "E1nKBzh2y2uW",
        "outputId": "fcd13b3c-a4ad-4067-b8c2-d61de83dd237"
      },
      "source": [
        "# leitura dos dados\n",
        "df=pd.read_csv(\"Dados_artigo_redes_neurais_atualizados.csv\", delimiter=';')   # pelo pandas (pd) lê o arquivo no formato csv - arquivo de dados como o excel\n",
        "print (df.head)"
      ],
      "execution_count": 5,
      "outputs": [
        {
          "output_type": "stream",
          "text": [
            "<bound method NDFrame.head of     No    Range  Mean_size  Collector_dosage  Impeller_speed  Recovery  Grade\n",
            "0    1    16-32        750              0.90            1100     98.47  65.18\n",
            "1    2   16-150        553              0.56            1200     92.71  65.36\n",
            "2    3  150-270         79              0.67            1200     68.51  77.53\n",
            "3    4   32-270        277              1.12            1200     93.90  52.68\n",
            "4    5   24-270        380              0.90            1500     82.99  64.29\n",
            "5    6   32-270        277              0.78            1200     95.69  62.93\n",
            "6    7    16-24        854              0.90            1200     94.19  76.38\n",
            "7    8   16-150        553              0.78            1500     66.15  67.67\n",
            "8    9   24-270        380              1.12            1100     97.68  56.07\n",
            "9   10   32-270        277              0.67            1200     98.13  60.60\n",
            "10  11    16-24        854              1.12            1200     97.71  76.91\n",
            "11  12   16-150        553              0.78            1200     96.85  57.70\n",
            "12  13   16-150        553              0.90            1200     97.56  52.85\n",
            "13  14   16-150        553              1.01            1200     97.67  48.50\n",
            "14  15    16-32        750              1.12            1200     98.84  64.43\n",
            "15  16   16-150        553              0.90            1100     91.21  57.13\n",
            "16  17    16-32        750              1.12            1100     96.98  63.12\n",
            "17  18   16-150        553              1.12            1100     96.47  58.90\n",
            "18  19    16-32        750              0.78            1500     95.48  68.50\n",
            "19  20   32-270        277              0.90            1200     95.82  57.30\n",
            "20  21   16-150        553              0.90            1500     89.74  58.27\n",
            "21  22   16-150        553              1.12            1500     96.20  50.46\n",
            "22  23   24-270        380              0.56            1200     78.44  72.64\n",
            "23  24   24-270        380              0.90            1200     94.06  62.71\n",
            "24  25   24-270        380              0.78            1200     97.68  57.17\n",
            "25  26    16-32        750              0.78            1200     96.74  65.58\n",
            "26  27   24-270        380              1.12            1200     95.27  56.41\n",
            "27  28   24-270        380              0.90            1100     97.77  58.39\n",
            "28  29   32-270        277              0.56            1200     93.27  63.94\n",
            "29  30   24-270        380              0.78            1100     92.99  70.24\n",
            "30  31    16-32        750              0.56            1200     94.55  73.83\n",
            "31  32   24-270        380              1.12            1500     92.54  64.37\n",
            "32  33   16-150        553              0.78            1100     97.17  53.64\n",
            "33  34    16-32        750              0.90            1200     98.18  68.44\n",
            "34  35   24-270        380              0.78            1500     97.49  75.22>\n"
          ],
          "name": "stdout"
        }
      ]
    },
    {
      "cell_type": "code",
      "metadata": {
        "id": "t2m5xJhf7nCs"
      },
      "source": [
        "#Selecionando as colunas de interesse:\n",
        "Dat_Select=df.iloc[:,2:]"
      ],
      "execution_count": 6,
      "outputs": []
    },
    {
      "cell_type": "code",
      "metadata": {
        "colab": {
          "base_uri": "https://localhost:8080/",
          "height": 197
        },
        "id": "ArTM3YCbyIxk",
        "outputId": "b9e88541-7322-41e6-c9a3-43a99180b87d"
      },
      "source": [
        "Dat_Select.head (5)"
      ],
      "execution_count": 7,
      "outputs": [
        {
          "output_type": "execute_result",
          "data": {
            "text/html": [
              "<div>\n",
              "<style scoped>\n",
              "    .dataframe tbody tr th:only-of-type {\n",
              "        vertical-align: middle;\n",
              "    }\n",
              "\n",
              "    .dataframe tbody tr th {\n",
              "        vertical-align: top;\n",
              "    }\n",
              "\n",
              "    .dataframe thead th {\n",
              "        text-align: right;\n",
              "    }\n",
              "</style>\n",
              "<table border=\"1\" class=\"dataframe\">\n",
              "  <thead>\n",
              "    <tr style=\"text-align: right;\">\n",
              "      <th></th>\n",
              "      <th>Mean_size</th>\n",
              "      <th>Collector_dosage</th>\n",
              "      <th>Impeller_speed</th>\n",
              "      <th>Recovery</th>\n",
              "      <th>Grade</th>\n",
              "    </tr>\n",
              "  </thead>\n",
              "  <tbody>\n",
              "    <tr>\n",
              "      <th>0</th>\n",
              "      <td>750</td>\n",
              "      <td>0.90</td>\n",
              "      <td>1100</td>\n",
              "      <td>98.47</td>\n",
              "      <td>65.18</td>\n",
              "    </tr>\n",
              "    <tr>\n",
              "      <th>1</th>\n",
              "      <td>553</td>\n",
              "      <td>0.56</td>\n",
              "      <td>1200</td>\n",
              "      <td>92.71</td>\n",
              "      <td>65.36</td>\n",
              "    </tr>\n",
              "    <tr>\n",
              "      <th>2</th>\n",
              "      <td>79</td>\n",
              "      <td>0.67</td>\n",
              "      <td>1200</td>\n",
              "      <td>68.51</td>\n",
              "      <td>77.53</td>\n",
              "    </tr>\n",
              "    <tr>\n",
              "      <th>3</th>\n",
              "      <td>277</td>\n",
              "      <td>1.12</td>\n",
              "      <td>1200</td>\n",
              "      <td>93.90</td>\n",
              "      <td>52.68</td>\n",
              "    </tr>\n",
              "    <tr>\n",
              "      <th>4</th>\n",
              "      <td>380</td>\n",
              "      <td>0.90</td>\n",
              "      <td>1500</td>\n",
              "      <td>82.99</td>\n",
              "      <td>64.29</td>\n",
              "    </tr>\n",
              "  </tbody>\n",
              "</table>\n",
              "</div>"
            ],
            "text/plain": [
              "   Mean_size  Collector_dosage  Impeller_speed  Recovery  Grade\n",
              "0        750              0.90            1100     98.47  65.18\n",
              "1        553              0.56            1200     92.71  65.36\n",
              "2         79              0.67            1200     68.51  77.53\n",
              "3        277              1.12            1200     93.90  52.68\n",
              "4        380              0.90            1500     82.99  64.29"
            ]
          },
          "metadata": {
            "tags": []
          },
          "execution_count": 7
        }
      ]
    },
    {
      "cell_type": "code",
      "metadata": {
        "id": "PmcN4TJO3bK3",
        "colab": {
          "base_uri": "https://localhost:8080/"
        },
        "outputId": "99382419-23c7-4aae-8863-28cd4a6cc3e4"
      },
      "source": [
        "# Separando o s  dados em normatizados e originais:\n",
        "Index=[0,1,2]\n",
        "X=Dat_Select.iloc[:,Index].copy()\n",
        "print(X)\n",
        "Y=Dat_Select.iloc[:,3:].copy()\n",
        "print(Y)"
      ],
      "execution_count": 8,
      "outputs": [
        {
          "output_type": "stream",
          "text": [
            "    Mean_size  Collector_dosage  Impeller_speed\n",
            "0         750              0.90            1100\n",
            "1         553              0.56            1200\n",
            "2          79              0.67            1200\n",
            "3         277              1.12            1200\n",
            "4         380              0.90            1500\n",
            "5         277              0.78            1200\n",
            "6         854              0.90            1200\n",
            "7         553              0.78            1500\n",
            "8         380              1.12            1100\n",
            "9         277              0.67            1200\n",
            "10        854              1.12            1200\n",
            "11        553              0.78            1200\n",
            "12        553              0.90            1200\n",
            "13        553              1.01            1200\n",
            "14        750              1.12            1200\n",
            "15        553              0.90            1100\n",
            "16        750              1.12            1100\n",
            "17        553              1.12            1100\n",
            "18        750              0.78            1500\n",
            "19        277              0.90            1200\n",
            "20        553              0.90            1500\n",
            "21        553              1.12            1500\n",
            "22        380              0.56            1200\n",
            "23        380              0.90            1200\n",
            "24        380              0.78            1200\n",
            "25        750              0.78            1200\n",
            "26        380              1.12            1200\n",
            "27        380              0.90            1100\n",
            "28        277              0.56            1200\n",
            "29        380              0.78            1100\n",
            "30        750              0.56            1200\n",
            "31        380              1.12            1500\n",
            "32        553              0.78            1100\n",
            "33        750              0.90            1200\n",
            "34        380              0.78            1500\n",
            "    Recovery  Grade\n",
            "0      98.47  65.18\n",
            "1      92.71  65.36\n",
            "2      68.51  77.53\n",
            "3      93.90  52.68\n",
            "4      82.99  64.29\n",
            "5      95.69  62.93\n",
            "6      94.19  76.38\n",
            "7      66.15  67.67\n",
            "8      97.68  56.07\n",
            "9      98.13  60.60\n",
            "10     97.71  76.91\n",
            "11     96.85  57.70\n",
            "12     97.56  52.85\n",
            "13     97.67  48.50\n",
            "14     98.84  64.43\n",
            "15     91.21  57.13\n",
            "16     96.98  63.12\n",
            "17     96.47  58.90\n",
            "18     95.48  68.50\n",
            "19     95.82  57.30\n",
            "20     89.74  58.27\n",
            "21     96.20  50.46\n",
            "22     78.44  72.64\n",
            "23     94.06  62.71\n",
            "24     97.68  57.17\n",
            "25     96.74  65.58\n",
            "26     95.27  56.41\n",
            "27     97.77  58.39\n",
            "28     93.27  63.94\n",
            "29     92.99  70.24\n",
            "30     94.55  73.83\n",
            "31     92.54  64.37\n",
            "32     97.17  53.64\n",
            "33     98.18  68.44\n",
            "34     97.49  75.22\n"
          ],
          "name": "stdout"
        }
      ]
    },
    {
      "cell_type": "code",
      "metadata": {
        "id": "p-4ZBfcinnIa"
      },
      "source": [
        "X_Train, X_Test, Y_Train, Y_Test = train_test_split(X,Y,test_size=0.20, shuffle=True, random_state=42)"
      ],
      "execution_count": 9,
      "outputs": []
    },
    {
      "cell_type": "code",
      "metadata": {
        "id": "ReO0r8HgoDZb"
      },
      "source": [
        "Scaler_X = preprocessing.MinMaxScaler((0,1)).fit(X)\n",
        "Scaler_Y= preprocessing.MinMaxScaler((0,1)).fit(Y)"
      ],
      "execution_count": 10,
      "outputs": []
    },
    {
      "cell_type": "code",
      "metadata": {
        "id": "3eJrsOvsoWKM"
      },
      "source": [
        "X_Train = Scaler_X.transform(X_Train)\n",
        "X_Test = Scaler_X.transform(X_Test)\n",
        "Y_Train = Scaler_Y.transform(Y_Train)\n",
        "Y_Test= Scaler_Y.transform(Y_Test)"
      ],
      "execution_count": 11,
      "outputs": []
    },
    {
      "cell_type": "code",
      "metadata": {
        "id": "idB52GbWHGwf"
      },
      "source": [
        "#Definindo a Rede Neural \n",
        "model = MLPRegressor(solver='lbfgs',activation='logistic',alpha=1e-5,max_iter=5000,\n",
        "                     hidden_layer_sizes=(9,12),random_state=6)"
      ],
      "execution_count": 12,
      "outputs": []
    },
    {
      "cell_type": "code",
      "metadata": {
        "id": "1k-E0x-bHejo",
        "colab": {
          "base_uri": "https://localhost:8080/"
        },
        "outputId": "ab8769cb-dc85-41f3-952e-704127bb78f7"
      },
      "source": [
        "#Treinando a Rede Neural\n",
        "model.fit(X_Train, Y_Train)"
      ],
      "execution_count": 13,
      "outputs": [
        {
          "output_type": "execute_result",
          "data": {
            "text/plain": [
              "MLPRegressor(activation='logistic', alpha=1e-05, batch_size='auto', beta_1=0.9,\n",
              "             beta_2=0.999, early_stopping=False, epsilon=1e-08,\n",
              "             hidden_layer_sizes=(9, 12), learning_rate='constant',\n",
              "             learning_rate_init=0.001, max_fun=15000, max_iter=5000,\n",
              "             momentum=0.9, n_iter_no_change=10, nesterovs_momentum=True,\n",
              "             power_t=0.5, random_state=6, shuffle=True, solver='lbfgs',\n",
              "             tol=0.0001, validation_fraction=0.1, verbose=False,\n",
              "             warm_start=False)"
            ]
          },
          "metadata": {
            "tags": []
          },
          "execution_count": 13
        }
      ]
    },
    {
      "cell_type": "code",
      "metadata": {
        "id": "Ivzn7KEDS12o"
      },
      "source": [
        "# Usando a rede neural treina em calculos para treino e teste\n",
        "Y_Calc_Train=model.predict(X_Train)\n",
        "Y_Calc_Test=model.predict(X_Test)"
      ],
      "execution_count": 14,
      "outputs": []
    },
    {
      "cell_type": "code",
      "metadata": {
        "id": "HJS4EDLAS4wH"
      },
      "source": [
        "#Transformando a saida da rede na forma original\n",
        "Y_Obs_Train=Scaler_Y.inverse_transform(np.array(Y_Train).reshape(-1,2))\n",
        "Y_Obs_Test=Scaler_Y.inverse_transform(np.array(Y_Test).reshape(-1,2))\n",
        "Y_Calc_Train=Scaler_Y.inverse_transform(Y_Calc_Train.reshape(-1,2))\n",
        "Y_Calc_Test=Scaler_Y.inverse_transform(Y_Calc_Test.reshape(-1,2))"
      ],
      "execution_count": 15,
      "outputs": []
    },
    {
      "cell_type": "code",
      "metadata": {
        "id": "ffBCm0VMB0uR"
      },
      "source": [
        "#Separando a resposta Recovery para treino e teste dos dados observados e calculados\n",
        "Y_Obs_Train_Recovery=Y_Obs_Train[:,0]\n",
        "Y_Obs_Test_Recovery=Y_Obs_Test[:,0]\n",
        "Y_Calc_Train_Recovery=Y_Calc_Train[:,0]\n",
        "Y_Calc_Test_Recovery=Y_Calc_Test[:,0]"
      ],
      "execution_count": 16,
      "outputs": []
    },
    {
      "cell_type": "code",
      "metadata": {
        "id": "eBVP0Vw3TfcM",
        "colab": {
          "base_uri": "https://localhost:8080/",
          "height": 283
        },
        "outputId": "cfab66b0-4a27-4867-8310-0c5ab1745a6c"
      },
      "source": [
        "# Expressando os dois dados em figura para a resposta Recovery\n",
        "fig = plt.figure()\n",
        "ax1 = fig.add_subplot(111)\n",
        "ax1.scatter(Y_Obs_Test_Recovery, Y_Calc_Test_Recovery, s=10, c='b', marker=\"s\", label='Teste')\n",
        "ax1.scatter(Y_Obs_Train_Recovery, Y_Calc_Train_Recovery, s=10, c='r', marker=\"o\", label='Treino')\n",
        "plt.legend(loc='upper left')\n",
        "plt.xlim([0,120])\n",
        "plt.ylim([0,120])\n",
        "plt.ylabel('Recovery Calc')\n",
        "plt.xlabel('Recovery Obs')\n",
        "plt.show()"
      ],
      "execution_count": 17,
      "outputs": [
        {
          "output_type": "display_data",
          "data": {
            "image/png": "[encoded data removed]",
            "text/plain": [
              "<Figure size 432x288 with 1 Axes>"
            ]
          },
          "metadata": {
            "tags": [],
            "needs_background": "light"
          }
        }
      ]
    },
    {
      "cell_type": "code",
      "metadata": {
        "id": "r3joMJaaTlH1",
        "colab": {
          "base_uri": "https://localhost:8080/"
        },
        "outputId": "c8ffdab6-e574-41f5-86fc-7303efa1b0b3"
      },
      "source": [
        "MSE_Test_Recovery=mean_squared_error(Y_Obs_Test_Recovery,Y_Calc_Test_Recovery)\n",
        "print(\"MSE Recovery Teste=\",MSE_Test_Recovery)\n",
        "R2_Test_Recovery=r2_score(Y_Obs_Test_Recovery,Y_Calc_Test_Recovery)\n",
        "print(\"R^2 Teste=\",R2_Test_Recovery)"
      ],
      "execution_count": 18,
      "outputs": [
        {
          "output_type": "stream",
          "text": [
            "MSE Recovery Teste= 17.62435717618184\n",
            "R^2 Teste= -2.5845654226834935\n"
          ],
          "name": "stdout"
        }
      ]
    },
    {
      "cell_type": "code",
      "metadata": {
        "id": "bBCdfifHTqQd",
        "colab": {
          "base_uri": "https://localhost:8080/"
        },
        "outputId": "d45f9beb-480a-4297-cc2e-2894fe1f70fc"
      },
      "source": [
        "MSE_Train_Recovery=mean_squared_error(Y_Obs_Train_Recovery,Y_Calc_Train_Recovery)\n",
        "print(\"MSE Treino=\",MSE_Train_Recovery)\n",
        "R2_Train_Recovery=r2_score(Y_Obs_Train_Recovery,Y_Calc_Train_Recovery)\n",
        "print(\"R^2 Treino=\",R2_Train_Recovery)"
      ],
      "execution_count": 19,
      "outputs": [
        {
          "output_type": "stream",
          "text": [
            "MSE Treino= 0.20251289247651935\n",
            "R^2 Treino= 0.9971082624689356\n"
          ],
          "name": "stdout"
        }
      ]
    },
    {
      "cell_type": "code",
      "metadata": {
        "id": "1btScjFVHhSS"
      },
      "source": [
        "#Separando a resposta Grade para treino e teste dos dados observados e calculados\n",
        "Y_Obs_Train_Grade=Y_Obs_Train[:,1]\n",
        "Y_Obs_Test_Grade=Y_Obs_Test[:,1]\n",
        "Y_Calc_Train_Grade=Y_Calc_Train[:,1]\n",
        "Y_Calc_Test_Grade=Y_Calc_Test[:,1]"
      ],
      "execution_count": 20,
      "outputs": []
    },
    {
      "cell_type": "code",
      "metadata": {
        "id": "nduwrryJn5MH",
        "colab": {
          "base_uri": "https://localhost:8080/",
          "height": 278
        },
        "outputId": "cdab6a39-c2e6-4738-cbdf-182574b4d0de"
      },
      "source": [
        "# Expressando os dois dados em figura (Grade)\n",
        "fig = plt.figure()\n",
        "ax1 = fig.add_subplot(111)\n",
        "\n",
        "ax1.scatter(Y_Obs_Test_Grade,Y_Calc_Test_Grade, s=10, c='m', marker=\"s\", label='Teste')\n",
        "ax1.scatter(Y_Obs_Train_Grade,Y_Calc_Train_Grade, s=10, c='g', marker=\"o\", label='Treino')\n",
        "plt.legend(loc='upper left')\n",
        "plt.ylabel('Grade Calc')\n",
        "plt.xlabel('Grade Obs')\n",
        "plt.show()"
      ],
      "execution_count": 21,
      "outputs": [
        {
          "output_type": "display_data",
          "data": {
            "image/png": "[encoded data removed]",
            "text/plain": [
              "<Figure size 432x288 with 1 Axes>"
            ]
          },
          "metadata": {
            "tags": [],
            "needs_background": "light"
          }
        }
      ]
    },
    {
      "cell_type": "code",
      "metadata": {
        "id": "hbHEi62tpNPk",
        "colab": {
          "base_uri": "https://localhost:8080/"
        },
        "outputId": "38b72415-7c8f-464f-e060-cb347ac71385"
      },
      "source": [
        "MSE_Grade_Test=mean_squared_error(Y_Obs_Test_Grade,Y_Calc_Test_Grade)\n",
        "print(\"MSE Grade Teste=\",MSE_Grade_Test)\n",
        "R2_Grade_Test=r2_score(Y_Obs_Test_Grade,Y_Calc_Test_Grade)\n",
        "print(\"R^2 Grade Teste=\",R2_Grade_Test)"
      ],
      "execution_count": 22,
      "outputs": [
        {
          "output_type": "stream",
          "text": [
            "MSE Grade Teste= 40.87976879287021\n",
            "R^2 Grade Teste= 0.014420721976309836\n"
          ],
          "name": "stdout"
        }
      ]
    },
    {
      "cell_type": "code",
      "metadata": {
        "id": "VwEpsBObpuX1",
        "colab": {
          "base_uri": "https://localhost:8080/"
        },
        "outputId": "7038cc75-4a36-4cb8-904a-5d4641f29732"
      },
      "source": [
        "MSE_Grade_Train=mean_squared_error(Y_Obs_Train_Grade,Y_Calc_Train_Grade)\n",
        "print(\"MSE Grade Treino=\",MSE_Grade_Train)\n",
        "R2_Grade_Train=r2_score(Y_Obs_Train_Grade,Y_Calc_Train_Grade)\n",
        "print(\"R^2 Grade Treino=\",R2_Grade_Train)"
      ],
      "execution_count": 23,
      "outputs": [
        {
          "output_type": "stream",
          "text": [
            "MSE Grade Treino= 0.03229642673355728\n",
            "R^2 Grade Treino= 0.9993623951542354\n"
          ],
          "name": "stdout"
        }
      ]
    }
  ]
}