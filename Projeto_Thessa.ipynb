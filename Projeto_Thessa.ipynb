{
  "nbformat": 4,
  "nbformat_minor": 0,
  "metadata": {
    "colab": {
      "name": "Projeto_Thessa.ipynb",
      "provenance": [],
      "authorship_tag": "ABX9TyPyUKxvdloDRFEeIS7vOAax",
      "include_colab_link": true
    },
    "kernelspec": {
      "name": "python3",
      "display_name": "Python 3"
    },
    "language_info": {
      "name": "python"
    }
  },
  "cells": [
    {
      "cell_type": "markdown",
      "metadata": {
        "id": "view-in-github",
        "colab_type": "text"
      },
      "source": [
        "<a href=\"https://colab.research.google.com/github/thessafuzaro/ANN/blob/main/Projeto_Thessa.ipynb\" target=\"_parent\"><img src=\"https://colab.research.google.com/assets/colab-badge.svg\" alt=\"Open In Colab\"/></a>"
      ]
    },
    {
      "cell_type": "code",
      "metadata": {
        "id": "RvbXkT6Niq-l",
        "colab": {
          "base_uri": "https://localhost:8080/",
          "height": 52
        },
        "outputId": "6925dbc2-c87d-4769-d826-bc93fd99d715"
      },
      "source": [
        "'''Primeiro projeto de redes neurais\n",
        "Aluna: Thessa Fuzaro Mendes\n",
        "Artigo: On the optimiation of froth flotation by the use of an artificial neural network [Al-Thyabat S]\n",
        "Data: 11/05/2021'''"
      ],
      "execution_count": 18,
      "outputs": [
        {
          "output_type": "execute_result",
          "data": {
            "application/vnd.google.colaboratory.intrinsic+json": {
              "type": "string"
            },
            "text/plain": [
              "'Primeiro projeto de redes neurais\\nAluna: Thessa Fuzaro Mendes\\nArtigo: On the optimiation of froth flotation by the use of an artificial neural network [Al-Thyabat S]\\nData: 11/05/2021'"
            ]
          },
          "metadata": {
            "tags": []
          },
          "execution_count": 18
        }
      ]
    },
    {
      "cell_type": "code",
      "metadata": {
        "id": "R6aspZiHeEv0"
      },
      "source": [
        "#Bibliotecas necessárias\n",
        "import os\n",
        "import numpy as np   # biblioteca númerica do python\n",
        "import pandas as pd \n",
        "import matplotlib.pyplot as plt\n",
        "from sklearn.neural_network import MLPRegressor\n",
        "from sklearn.metrics import mean_squared_error\n",
        "from sklearn.metrics import r2_score \n",
        "#from sklearn import preprocessing "
      ],
      "execution_count": 19,
      "outputs": []
    },
    {
      "cell_type": "code",
      "metadata": {
        "id": "ST4bAw0QxSum"
      },
      "source": [
        "# para gerar o grafico no browser\n",
        "%matplotlib inline"
      ],
      "execution_count": 20,
      "outputs": []
    },
    {
      "cell_type": "code",
      "metadata": {
        "id": "PIY4zsixyqHX",
        "colab": {
          "base_uri": "https://localhost:8080/"
        },
        "outputId": "dfaf987e-2fc7-460b-8fe3-c709ddd3f82f"
      },
      "source": [
        "!git clone https://github.com/thessafuzaro/ANN\n",
        "%cd ANN"
      ],
      "execution_count": 13,
      "outputs": [
        {
          "output_type": "stream",
          "text": [
            "Cloning into 'ANN'...\n",
            "remote: Enumerating objects: 32, done.\u001b[K\n",
            "remote: Counting objects: 100% (32/32), done.\u001b[K\n",
            "remote: Compressing objects: 100% (30/30), done.\u001b[K\n",
            "remote: Total 32 (delta 14), reused 0 (delta 0), pack-reused 0\u001b[K\n",
            "Unpacking objects: 100% (32/32), done.\n",
            "/content/ANN/ANN\n"
          ],
          "name": "stdout"
        }
      ]
    },
    {
      "cell_type": "code",
      "metadata": {
        "colab": {
          "base_uri": "https://localhost:8080/"
        },
        "id": "E1nKBzh2y2uW",
        "outputId": "069b8f81-6526-4a55-885b-885072396b8e"
      },
      "source": [
        "# leitura dos dados\n",
        "df=pd.read_csv(\"Dados_artigo_ANN.csv\", delimiter=';')   # pelo pandas (pd) lê o arquivo no formato csv - arquivo de dados como o excel\n",
        "print (df.head)"
      ],
      "execution_count": 14,
      "outputs": [
        {
          "output_type": "stream",
          "text": [
            "<bound method NDFrame.head of     No   Range   Mean size   Collector dosage  Impeller speed   Recovery  Grade\n",
            "0    1    16-32         750              0.90             1200     98.18  68.44\n",
            "1    2   16-150         553              0.56             1200     92.71  65.36\n",
            "2    3    16-32         750              0.78             1200     96.74  65.58\n",
            "3    4   32-270         277              0.56             1200     93.27  63.94\n",
            "4    5    16-32         750              0.56             1200     94.55  73.83\n",
            "5    6   32-270         277              0.78             1200     95.69  62.93\n",
            "6    7    16-24         854              0.90             1200     94.19  76.38\n",
            "7    8   32-270         277              0.90             1200     95.82  57.30\n",
            "8    9   32-270         277              1.12             1200     93.90  52.68\n",
            "9   10   32-270         277              0.67             1200     98.13  60.60\n",
            "10  11    16-24         854              1.12             1200     97.71  76.91\n",
            "11  12   16-150         553              0.78             1200     96.85  57.70\n",
            "12  13   16-150         553              0.90             1200     97.56  52.85\n",
            "13  14   16-150         553              1.01             1200     97.67  48.50\n",
            "14  15    16-32         750              1.12             1200     98.84  64.43\n",
            "15  16   16-150         553              0.90             1100     91.21  57.13\n",
            "16  17    16-32         750              1.12             1100     96.98  63.12\n",
            "17  18   16-150         553              1.12             1100     96.47  58.90\n",
            "18  19    16-32         750              0.78             1500     95.48  68.50\n",
            "19  20   16-150         553              0.78             1500     66.15  67.67\n",
            "20  21   16-150         553              0.90             1500     89.74  58.27\n",
            "21  22   16-150         553              1.12             1500     96.20  50.46\n",
            "22  23   24-270         380              0.56             1200     78.44  72.64\n",
            "23  24   24-270         380              0.90             1200     94.06  62.71\n",
            "24  25   24-270         380              0.78             1200     97.68  57.17\n",
            "25  26  150-270          79              0.67             1200     68.51  77.53\n",
            "26  27   24-270         380              1.12             1200     95.27  56.41\n",
            "27  28   24-270         380              0.90             1100     97.77  58.39\n",
            "28  29   24-270         380              1.12             1100     97.68  56.07\n",
            "29  30   24-270         380              0.78             1100     92.99  70.24\n",
            "30  31   24-270         380              0.90             1500     82.99  64.29\n",
            "31  32   24-270         380              1.12             1500     92.54  64.37\n",
            "32  33   16-150         553              0.78             1100     97.17  53.64\n",
            "33  34    16-32         750              0.90             1100     98.47  65.18\n",
            "34  35   24-270         380              0.78             1500     97.49  75.22>\n"
          ],
          "name": "stdout"
        }
      ]
    },
    {
      "cell_type": "code",
      "metadata": {
        "id": "t2m5xJhf7nCs"
      },
      "source": [
        "#Selecionando as colunas de interesse:\n",
        "Dat_Select=df.iloc[:,2:].copy()"
      ],
      "execution_count": 15,
      "outputs": []
    },
    {
      "cell_type": "code",
      "metadata": {
        "colab": {
          "base_uri": "https://localhost:8080/",
          "height": 142
        },
        "id": "ArTM3YCbyIxk",
        "outputId": "fd5d2c96-e0a1-4f82-b138-e4f62c755477"
      },
      "source": [
        "Dat_Select.head(3)"
      ],
      "execution_count": 16,
      "outputs": [
        {
          "output_type": "execute_result",
          "data": {
            "text/html": [
              "<div>\n",
              "<style scoped>\n",
              "    .dataframe tbody tr th:only-of-type {\n",
              "        vertical-align: middle;\n",
              "    }\n",
              "\n",
              "    .dataframe tbody tr th {\n",
              "        vertical-align: top;\n",
              "    }\n",
              "\n",
              "    .dataframe thead th {\n",
              "        text-align: right;\n",
              "    }\n",
              "</style>\n",
              "<table border=\"1\" class=\"dataframe\">\n",
              "  <thead>\n",
              "    <tr style=\"text-align: right;\">\n",
              "      <th></th>\n",
              "      <th>Mean size</th>\n",
              "      <th>Collector dosage</th>\n",
              "      <th>Impeller speed</th>\n",
              "      <th>Recovery</th>\n",
              "      <th>Grade</th>\n",
              "    </tr>\n",
              "  </thead>\n",
              "  <tbody>\n",
              "    <tr>\n",
              "      <th>0</th>\n",
              "      <td>750</td>\n",
              "      <td>0.90</td>\n",
              "      <td>1200</td>\n",
              "      <td>98.18</td>\n",
              "      <td>68.44</td>\n",
              "    </tr>\n",
              "    <tr>\n",
              "      <th>1</th>\n",
              "      <td>553</td>\n",
              "      <td>0.56</td>\n",
              "      <td>1200</td>\n",
              "      <td>92.71</td>\n",
              "      <td>65.36</td>\n",
              "    </tr>\n",
              "    <tr>\n",
              "      <th>2</th>\n",
              "      <td>750</td>\n",
              "      <td>0.78</td>\n",
              "      <td>1200</td>\n",
              "      <td>96.74</td>\n",
              "      <td>65.58</td>\n",
              "    </tr>\n",
              "  </tbody>\n",
              "</table>\n",
              "</div>"
            ],
            "text/plain": [
              "   Mean size   Collector dosage  Impeller speed   Recovery  Grade\n",
              "0         750              0.90             1200     98.18  68.44\n",
              "1         553              0.56             1200     92.71  65.36\n",
              "2         750              0.78             1200     96.74  65.58"
            ]
          },
          "metadata": {
            "tags": []
          },
          "execution_count": 16
        }
      ]
    },
    {
      "cell_type": "code",
      "metadata": {
        "id": "PmcN4TJO3bK3"
      },
      "source": [
        "# Normatização dos dados:\n",
        "def Normatiza(x):\n",
        "  strings= list(x)\n",
        "  for i in strings:\n",
        "    max_x=x[i].max()\n",
        "    min_x=x[i].min()\n",
        "    a=(max_x+min_x)/2\n",
        "    b=(max_x-min_x)/2\n",
        "    x[i]=(x[i]-a)/b\n",
        "  return x"
      ],
      "execution_count": 17,
      "outputs": []
    },
    {
      "cell_type": "code",
      "metadata": {
        "colab": {
          "base_uri": "https://localhost:8080/"
        },
        "id": "Lngvel15jYYu",
        "outputId": "b8e8c76e-9f1c-42da-ae7e-385a6d14a96a"
      },
      "source": [
        "print(Normatiza)"
      ],
      "execution_count": 21,
      "outputs": [
        {
          "output_type": "stream",
          "text": [
            "<function Normatiza at 0x7f2294fe80e0>\n"
          ],
          "name": "stdout"
        }
      ]
    },
    {
      "cell_type": "code",
      "metadata": {
        "id": "V-n6yuuu4Rgn"
      },
      "source": [
        "# Retornando os dados para originais:\n",
        "def Original(x,x_old):\n",
        "  strings=list(x)\n",
        "  for i in strings:\n",
        "     max_x=x_old[i].max()\n",
        "     min_x=x_old[i].min()\n",
        "     a=(max_x+min_x)/2\n",
        "     b=(max_x-min_x)/2\n",
        "     x[i]=x[i]*b+a\n",
        "  return x"
      ],
      "execution_count": 22,
      "outputs": []
    },
    {
      "cell_type": "code",
      "metadata": {
        "id": "YZxkIbw0RMuF"
      },
      "source": [
        "#Separando os dados em normatizados e originais:\n",
        "Dat_Old=[]\n",
        "Dat_Old=Dat_Select.copy()\n",
        "Dat=Normatiza(Dat_Select)"
      ],
      "execution_count": 23,
      "outputs": []
    },
    {
      "cell_type": "code",
      "metadata": {
        "colab": {
          "base_uri": "https://localhost:8080/",
          "height": 142
        },
        "id": "AyQpJQYx3zYM",
        "outputId": "0c443839-b23c-418a-adbe-cdcb683e9def"
      },
      "source": [
        "Dat.tail(3)"
      ],
      "execution_count": 24,
      "outputs": [
        {
          "output_type": "execute_result",
          "data": {
            "text/html": [
              "<div>\n",
              "<style scoped>\n",
              "    .dataframe tbody tr th:only-of-type {\n",
              "        vertical-align: middle;\n",
              "    }\n",
              "\n",
              "    .dataframe tbody tr th {\n",
              "        vertical-align: top;\n",
              "    }\n",
              "\n",
              "    .dataframe thead th {\n",
              "        text-align: right;\n",
              "    }\n",
              "</style>\n",
              "<table border=\"1\" class=\"dataframe\">\n",
              "  <thead>\n",
              "    <tr style=\"text-align: right;\">\n",
              "      <th></th>\n",
              "      <th>Mean size</th>\n",
              "      <th>Collector dosage</th>\n",
              "      <th>Impeller speed</th>\n",
              "      <th>Recovery</th>\n",
              "      <th>Grade</th>\n",
              "    </tr>\n",
              "  </thead>\n",
              "  <tbody>\n",
              "    <tr>\n",
              "      <th>32</th>\n",
              "      <td>0.223226</td>\n",
              "      <td>-0.214286</td>\n",
              "      <td>-1.0</td>\n",
              "      <td>0.897828</td>\n",
              "      <td>-0.645884</td>\n",
              "    </tr>\n",
              "    <tr>\n",
              "      <th>33</th>\n",
              "      <td>0.731613</td>\n",
              "      <td>0.214286</td>\n",
              "      <td>-1.0</td>\n",
              "      <td>0.977363</td>\n",
              "      <td>0.149156</td>\n",
              "    </tr>\n",
              "    <tr>\n",
              "      <th>34</th>\n",
              "      <td>-0.223226</td>\n",
              "      <td>-0.214286</td>\n",
              "      <td>1.0</td>\n",
              "      <td>0.917406</td>\n",
              "      <td>0.840854</td>\n",
              "    </tr>\n",
              "  </tbody>\n",
              "</table>\n",
              "</div>"
            ],
            "text/plain": [
              "    Mean size   Collector dosage  Impeller speed   Recovery     Grade\n",
              "32    0.223226         -0.214286             -1.0  0.897828 -0.645884\n",
              "33    0.731613          0.214286             -1.0  0.977363  0.149156\n",
              "34   -0.223226         -0.214286              1.0  0.917406  0.840854"
            ]
          },
          "metadata": {
            "tags": []
          },
          "execution_count": 24
        }
      ]
    },
    {
      "cell_type": "code",
      "metadata": {
        "id": "fdA5xj3q4TUC"
      },
      "source": [
        "#Separando os dados para treino e teste da Rede Neural\n",
        "Train=Dat.sample(frac=0.8,random_state=None)\n",
        "Test=Dat.drop(Train.index)"
      ],
      "execution_count": 25,
      "outputs": []
    },
    {
      "cell_type": "code",
      "metadata": {
        "colab": {
          "base_uri": "https://localhost:8080/"
        },
        "id": "fQE_ODtf5T4e",
        "outputId": "ac18d2f7-f8d3-4e44-9be5-af96b1912826"
      },
      "source": [
        "print(Train.head)"
      ],
      "execution_count": 26,
      "outputs": [
        {
          "output_type": "stream",
          "text": [
            "<bound method NDFrame.head of     Mean size   Collector dosage  Impeller speed   Recovery     Grade\n",
            "29   -0.223226         -0.214286             -1.0  0.642092  0.497761\n",
            "31   -0.223226          1.000000              1.0  0.614561  0.093352\n",
            "11    0.223226         -0.214286             -0.5  0.878250 -0.366173\n",
            "14    0.731613          1.000000             -0.5  1.000000  0.097485\n",
            "7    -0.489032          0.214286             -0.5  0.815234 -0.393731\n",
            "3    -0.489032         -1.000000             -0.5  0.659223  0.063727\n",
            "34   -0.223226         -0.214286              1.0  0.917406  0.840854\n",
            "2     0.731613         -0.214286             -0.5  0.871520  0.176714\n",
            "8    -0.489032          1.000000             -0.5  0.697767 -0.712022\n",
            "15    0.223226          0.214286             -1.0  0.533191 -0.405443\n",
            "16    0.731613          1.000000             -1.0  0.886204  0.007234\n",
            "10    1.000000          1.000000             -0.5  0.930866  0.957286\n",
            "17    0.223226          1.000000             -1.0  0.855002 -0.283500\n",
            "22   -0.223226         -1.000000             -0.5 -0.248088  0.663107\n",
            "32    0.223226         -0.214286             -1.0  0.897828 -0.645884\n",
            "13    0.223226          0.607143             -0.5  0.928418 -1.000000\n",
            "0     0.731613          0.214286             -0.5  0.959621  0.373751\n",
            "5    -0.489032         -0.214286             -0.5  0.807281 -0.005856\n",
            "26   -0.223226          1.000000             -0.5  0.781585 -0.455047\n",
            "9    -0.489032         -0.607143             -0.5  0.956562 -0.166380\n",
            "18    0.731613         -0.214286              1.0  0.794433  0.377885\n",
            "4     0.731613         -1.000000             -0.5  0.737534  0.745091\n",
            "25   -1.000000         -0.607143             -0.5 -0.855613  1.000000\n",
            "27   -0.223226          0.214286             -1.0  0.934537 -0.318636\n",
            "21    0.223226          1.000000              1.0  0.838483 -0.864967\n",
            "6     1.000000          0.214286             -0.5  0.715509  0.920772\n",
            "1     0.223226         -1.000000             -0.5  0.624962  0.161557\n",
            "30   -0.223226          0.214286              1.0  0.030284  0.087840>\n"
          ],
          "name": "stdout"
        }
      ]
    },
    {
      "cell_type": "code",
      "metadata": {
        "colab": {
          "base_uri": "https://localhost:8080/"
        },
        "id": "o1rBrZUZ5ePT",
        "outputId": "579bad19-b947-4b3f-a8b1-d2c107fab0b5"
      },
      "source": [
        "print(Test.head)"
      ],
      "execution_count": 27,
      "outputs": [
        {
          "output_type": "stream",
          "text": [
            "<bound method NDFrame.head of     Mean size   Collector dosage  Impeller speed   Recovery     Grade\n",
            "12    0.223226          0.214286             -0.5  0.921689 -0.700310\n",
            "19    0.223226         -0.214286              1.0 -1.000000  0.320703\n",
            "20    0.223226          0.214286              1.0  0.443255 -0.326903\n",
            "23   -0.223226          0.214286             -0.5  0.707556 -0.021013\n",
            "24   -0.223226         -0.214286             -0.5  0.929030 -0.402687\n",
            "28   -0.223226          1.000000             -1.0  0.929030 -0.478471\n",
            "33    0.731613          0.214286             -1.0  0.977363  0.149156>\n"
          ],
          "name": "stdout"
        }
      ]
    },
    {
      "cell_type": "code",
      "metadata": {
        "id": "F5-v3pRJ5hPX"
      },
      "source": [
        "# Obtendo as variaveis independentes (treino e teste)\n",
        "Index=[0,1,2]\n",
        "x_Train=Train.iloc[:,Index]\n",
        "x_Test=Test.iloc[:,Index]\n",
        "X_Old=Dat_Old.iloc[:,Index]"
      ],
      "execution_count": 28,
      "outputs": []
    },
    {
      "cell_type": "code",
      "metadata": {
        "id": "_dfzuGVHF3LH"
      },
      "source": [
        "# Obtendo as variaveis dependentes Recovery e Grade (treino e teste)\n",
        "y_Train=Train.iloc[:,[3,4]]\n",
        "y_Test=Test.iloc[:,[3,4]]\n",
        "Y_Old=Dat_Old.iloc[:,[3,4]]"
      ],
      "execution_count": 29,
      "outputs": []
    },
    {
      "cell_type": "code",
      "metadata": {
        "id": "idB52GbWHGwf",
        "colab": {
          "base_uri": "https://localhost:8080/",
          "height": 52
        },
        "outputId": "b669209b-cbbf-44ce-dca8-67d6fcf45f87"
      },
      "source": [
        "'''# Definindo a Rede Neural \n",
        "model = MLPRegressor(solver='lbfgs',activation='tanh',alpha=1e-5,max_iter=100,\n",
        "                     hidden_layer_sizes=(9, 8),random_state=1)'''"
      ],
      "execution_count": 30,
      "outputs": [
        {
          "output_type": "execute_result",
          "data": {
            "application/vnd.google.colaboratory.intrinsic+json": {
              "type": "string"
            },
            "text/plain": [
              "\"# Definindo a Rede Neural \\nmodel = MLPRegressor(solver='lbfgs',activation='tanh',alpha=1e-5,max_iter=100,\\n                     hidden_layer_sizes=(9, 8),random_state=1)\""
            ]
          },
          "metadata": {
            "tags": []
          },
          "execution_count": 30
        }
      ]
    },
    {
      "cell_type": "code",
      "metadata": {
        "id": "1k-E0x-bHejo",
        "colab": {
          "base_uri": "https://localhost:8080/",
          "height": 35
        },
        "outputId": "47b74911-f554-40db-bf67-aed32119ddb4"
      },
      "source": [
        "'''# Treinando a Rede Neural\n",
        "model.fit(x_Train, y_Train)'''"
      ],
      "execution_count": 31,
      "outputs": [
        {
          "output_type": "execute_result",
          "data": {
            "application/vnd.google.colaboratory.intrinsic+json": {
              "type": "string"
            },
            "text/plain": [
              "'# Treinando a Rede Neural\\nmodel.fit(x_Train, y_Train)'"
            ]
          },
          "metadata": {
            "tags": []
          },
          "execution_count": 31
        }
      ]
    },
    {
      "cell_type": "code",
      "metadata": {
        "id": "Ivzn7KEDS12o",
        "colab": {
          "base_uri": "https://localhost:8080/",
          "height": 35
        },
        "outputId": "e95d5c18-452a-4bb1-83fa-eb41f83a5e67"
      },
      "source": [
        "'''# usa a rede neural treina em calculos para treino e teste\n",
        "y_calc_train=model.predict(x_train)\n",
        "y_calc_test=model.predict(x_test)'''"
      ],
      "execution_count": 32,
      "outputs": [
        {
          "output_type": "execute_result",
          "data": {
            "application/vnd.google.colaboratory.intrinsic+json": {
              "type": "string"
            },
            "text/plain": [
              "'# usa a rede neural treina em calculos para treino e teste\\ny_calc_train=model.predict(x_train)\\ny_calc_test=model.predict(x_test)'"
            ]
          },
          "metadata": {
            "tags": []
          },
          "execution_count": 32
        }
      ]
    },
    {
      "cell_type": "code",
      "metadata": {
        "id": "HJS4EDLAS4wH",
        "colab": {
          "base_uri": "https://localhost:8080/",
          "height": 52
        },
        "outputId": "1d20395a-c970-46ea-e26c-65cfb3147143"
      },
      "source": [
        "'''# transforma a saida da rede em dataframe \n",
        "y_calc_train=pd.DataFrame(y_calc_train)\n",
        "y_calc_test=pd.DataFrame(y_calc_test)\n",
        "col_names=list(y_train)\n",
        "y_calc_train.columns = col_names\n",
        "y_calc_test.columns = col_names'''"
      ],
      "execution_count": 33,
      "outputs": [
        {
          "output_type": "execute_result",
          "data": {
            "application/vnd.google.colaboratory.intrinsic+json": {
              "type": "string"
            },
            "text/plain": [
              "'# transforma a saida da rede em dataframe \\ny_calc_train=pd.DataFrame(y_calc_train)\\ny_calc_test=pd.DataFrame(y_calc_test)\\ncol_names=list(y_train)\\ny_calc_train.columns = col_names\\ny_calc_test.columns = col_names'"
            ]
          },
          "metadata": {
            "tags": []
          },
          "execution_count": 33
        }
      ]
    },
    {
      "cell_type": "code",
      "metadata": {
        "id": "lmQHNHXCS-o_",
        "colab": {
          "base_uri": "https://localhost:8080/",
          "height": 35
        },
        "outputId": "6d1a8eea-3bbe-4207-fdd9-aee6a3621d68"
      },
      "source": [
        "'''# transforma dos dados calculados na forma original (nao normatizado)\n",
        "y_calc_train=Original(y_calc_train,Y_OLD)\n",
        "y_calc_test=Original(y_calc_test,Y_OLD)'''"
      ],
      "execution_count": 34,
      "outputs": [
        {
          "output_type": "execute_result",
          "data": {
            "application/vnd.google.colaboratory.intrinsic+json": {
              "type": "string"
            },
            "text/plain": [
              "'# transforma dos dados calculados na forma original (nao normatizado)\\ny_calc_train=Original(y_calc_train,Y_OLD)\\ny_calc_test=Original(y_calc_test,Y_OLD)'"
            ]
          },
          "metadata": {
            "tags": []
          },
          "execution_count": 34
        }
      ]
    },
    {
      "cell_type": "code",
      "metadata": {
        "id": "6xeXKS2bTFbH",
        "colab": {
          "base_uri": "https://localhost:8080/",
          "height": 35
        },
        "outputId": "2a3310a9-aa10-42bd-d3ee-622f5fa652c2"
      },
      "source": [
        "'''# recupera os dados originais \n",
        "test=[]\n",
        "train=[]\n",
        "train=Original(y_train,Y_OLD)\n",
        "test=Original(y_test,Y_OLD)'''"
      ],
      "execution_count": 35,
      "outputs": [
        {
          "output_type": "execute_result",
          "data": {
            "application/vnd.google.colaboratory.intrinsic+json": {
              "type": "string"
            },
            "text/plain": [
              "'# recupera os dados originais \\ntest=[]\\ntrain=[]\\ntrain=Original(y_train,Y_OLD)\\ntest=Original(y_test,Y_OLD)'"
            ]
          },
          "metadata": {
            "tags": []
          },
          "execution_count": 35
        }
      ]
    },
    {
      "cell_type": "code",
      "metadata": {
        "id": "Ns4i0tWbTKld",
        "colab": {
          "base_uri": "https://localhost:8080/",
          "height": 35
        },
        "outputId": "cfc5dd9e-63df-4493-f9f1-c0bbadbf53b5"
      },
      "source": [
        "'''train'''"
      ],
      "execution_count": 36,
      "outputs": [
        {
          "output_type": "execute_result",
          "data": {
            "application/vnd.google.colaboratory.intrinsic+json": {
              "type": "string"
            },
            "text/plain": [
              "'train'"
            ]
          },
          "metadata": {
            "tags": []
          },
          "execution_count": 36
        }
      ]
    },
    {
      "cell_type": "code",
      "metadata": {
        "id": "u0BbLORvTRLl",
        "colab": {
          "base_uri": "https://localhost:8080/",
          "height": 52
        },
        "outputId": "b6923e61-f815-4235-e1e4-4e927e7d5ad6"
      },
      "source": [
        "'''# escolhe uma das resposta para fazer o grafico (resistencia-treino)\n",
        "resist_obs_train=[]\n",
        "resist_calc_train=[]\n",
        "resist_calc_train=y_calc_train['Power'].copy()\n",
        "resist_obs_train=train['Power'].copy()'''"
      ],
      "execution_count": 37,
      "outputs": [
        {
          "output_type": "execute_result",
          "data": {
            "application/vnd.google.colaboratory.intrinsic+json": {
              "type": "string"
            },
            "text/plain": [
              "\"# escolhe uma das resposta para fazer o grafico (resistencia-treino)\\nresist_obs_train=[]\\nresist_calc_train=[]\\nresist_calc_train=y_calc_train['Power'].copy()\\nresist_obs_train=train['Power'].copy()\""
            ]
          },
          "metadata": {
            "tags": []
          },
          "execution_count": 37
        }
      ]
    },
    {
      "cell_type": "code",
      "metadata": {
        "id": "pnENmx30TXep",
        "colab": {
          "base_uri": "https://localhost:8080/",
          "height": 52
        },
        "outputId": "56c4da63-0b72-4aca-9410-363943132512"
      },
      "source": [
        "'''# escolhe uma das resposta para fazer o grafico (resistencia-teste)\n",
        "resist_obs_test=[]\n",
        "resist_calc_test=[]\n",
        "resist_calc_test=y_calc_test['Power'].copy()\n",
        "resist_obs_test=test['Power'].copy()'''"
      ],
      "execution_count": 38,
      "outputs": [
        {
          "output_type": "execute_result",
          "data": {
            "application/vnd.google.colaboratory.intrinsic+json": {
              "type": "string"
            },
            "text/plain": [
              "\"# escolhe uma das resposta para fazer o grafico (resistencia-teste)\\nresist_obs_test=[]\\nresist_calc_test=[]\\nresist_calc_test=y_calc_test['Power'].copy()\\nresist_obs_test=test['Power'].copy()\""
            ]
          },
          "metadata": {
            "tags": []
          },
          "execution_count": 38
        }
      ]
    },
    {
      "cell_type": "code",
      "metadata": {
        "id": "eBVP0Vw3TfcM",
        "colab": {
          "base_uri": "https://localhost:8080/",
          "height": 69
        },
        "outputId": "02f6b709-8522-40c3-b7f3-bb934d5154a3"
      },
      "source": [
        "'''# expressa os dois dados em figura\n",
        "fig = plt.figure()\n",
        "ax1 = fig.add_subplot(111)\n",
        "\n",
        "ax1.scatter(resist_obs_test,resist_calc_test, s=10, c='b', marker=\"s\", label='teste')\n",
        "ax1.scatter(resist_obs_train,resist_calc_train, s=10, c='r', marker=\"o\", label='treino')\n",
        "plt.legend(loc='upper left')\n",
        "plt.ylabel('Power Calc')\n",
        "plt.xlabel('Power Obs')\n",
        "plt.show()'''"
      ],
      "execution_count": 39,
      "outputs": [
        {
          "output_type": "execute_result",
          "data": {
            "application/vnd.google.colaboratory.intrinsic+json": {
              "type": "string"
            },
            "text/plain": [
              "'# expressa os dois dados em figura\\nfig = plt.figure()\\nax1 = fig.add_subplot(111)\\n\\nax1.scatter(resist_obs_test,resist_calc_test, s=10, c=\\'b\\', marker=\"s\", label=\\'teste\\')\\nax1.scatter(resist_obs_train,resist_calc_train, s=10, c=\\'r\\', marker=\"o\", label=\\'treino\\')\\nplt.legend(loc=\\'upper left\\')\\nplt.ylabel(\\'Power Calc\\')\\nplt.xlabel(\\'Power Obs\\')\\nplt.show()'"
            ]
          },
          "metadata": {
            "tags": []
          },
          "execution_count": 39
        }
      ]
    },
    {
      "cell_type": "code",
      "metadata": {
        "id": "r3joMJaaTlH1",
        "colab": {
          "base_uri": "https://localhost:8080/",
          "height": 35
        },
        "outputId": "98abf838-49aa-4b3b-a172-c23250a90296"
      },
      "source": [
        "'''mse=mean_squared_error(resist_obs_test,resist_calc_test)\n",
        "print(\"MSE teste=\",mse)\n",
        "R2=r2_score(resist_obs_test,resist_calc_test)\n",
        "print(\"R^2 teste=\",R2)'''"
      ],
      "execution_count": 40,
      "outputs": [
        {
          "output_type": "execute_result",
          "data": {
            "application/vnd.google.colaboratory.intrinsic+json": {
              "type": "string"
            },
            "text/plain": [
              "'mse=mean_squared_error(resist_obs_test,resist_calc_test)\\nprint(\"MSE teste=\",mse)\\nR2=r2_score(resist_obs_test,resist_calc_test)\\nprint(\"R^2 teste=\",R2)'"
            ]
          },
          "metadata": {
            "tags": []
          },
          "execution_count": 40
        }
      ]
    },
    {
      "cell_type": "code",
      "metadata": {
        "id": "bBCdfifHTqQd",
        "colab": {
          "base_uri": "https://localhost:8080/",
          "height": 52
        },
        "outputId": "b3c1270b-37aa-4b74-b64b-2a9770fde5e2"
      },
      "source": [
        "'''mse=mean_squared_error(resist_obs_train,resist_calc_train)\n",
        "print(\"MSE treino=\",mse)\n",
        "R2=r2_score(resist_obs_train,resist_calc_train)\n",
        "print(\"R^2 treino=\",R2)'''"
      ],
      "execution_count": 41,
      "outputs": [
        {
          "output_type": "execute_result",
          "data": {
            "application/vnd.google.colaboratory.intrinsic+json": {
              "type": "string"
            },
            "text/plain": [
              "'mse=mean_squared_error(resist_obs_train,resist_calc_train)\\nprint(\"MSE treino=\",mse)\\nR2=r2_score(resist_obs_train,resist_calc_train)\\nprint(\"R^2 treino=\",R2)'"
            ]
          },
          "metadata": {
            "tags": []
          },
          "execution_count": 41
        }
      ]
    }
  ]
}