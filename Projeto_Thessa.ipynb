{
  "nbformat": 4,
  "nbformat_minor": 0,
  "metadata": {
    "colab": {
      "name": "Projeto_Thessa.ipynb",
      "provenance": [],
      "authorship_tag": "ABX9TyNwPq/s1O05KPTtOmjEOPM0",
      "include_colab_link": true
    },
    "kernelspec": {
      "name": "python3",
      "display_name": "Python 3"
    },
    "language_info": {
      "name": "python"
    }
  },
  "cells": [
    {
      "cell_type": "markdown",
      "metadata": {
        "id": "view-in-github",
        "colab_type": "text"
      },
      "source": [
        "<a href=\"https://colab.research.google.com/github/thessafuzaro/ANN/blob/main/Projeto_Thessa.ipynb\" target=\"_parent\"><img src=\"https://colab.research.google.com/assets/colab-badge.svg\" alt=\"Open In Colab\"/></a>"
      ]
    },
    {
      "cell_type": "code",
      "metadata": {
        "id": "RvbXkT6Niq-l",
        "colab": {
          "base_uri": "https://localhost:8080/",
          "height": 52
        },
        "outputId": "7d87eefe-f596-49f0-d69f-a71f20c2afdc"
      },
      "source": [
        "'''Primeiro projeto de redes neurais\n",
        "Aluna: Thessa Fuzaro Mendes\n",
        "Artigo: On the optimiation of froth flotation by the use of an artificial neural network [Al-Thyabat S]\n",
        "Data: 11/05/2021'''"
      ],
      "execution_count": null,
      "outputs": [
        {
          "output_type": "execute_result",
          "data": {
            "application/vnd.google.colaboratory.intrinsic+json": {
              "type": "string"
            },
            "text/plain": [
              "'Primeiro projeto de redes neurais\\nAluna: Thessa Fuzaro Mendes\\nArtigo: On the optimiation of froth flotation by the use of an artificial neural network [Al-Thyabat S]\\nData: 11/05/2021'"
            ]
          },
          "metadata": {
            "tags": []
          },
          "execution_count": 1
        }
      ]
    },
    {
      "cell_type": "code",
      "metadata": {
        "id": "R6aspZiHeEv0"
      },
      "source": [
        "#Bibliotecas necessárias\n",
        "import os\n",
        "import numpy as np   # biblioteca númerica do python\n",
        "import pandas as pd \n",
        "import matplotlib.pyplot as plt\n",
        "from sklearn.neural_network import MLPRegressor\n",
        "from sklearn.metrics import mean_squared_error\n",
        "from sklearn.metrics import r2_score \n",
        "\n",
        "#np.random.seed(0)"
      ],
      "execution_count": null,
      "outputs": []
    },
    {
      "cell_type": "code",
      "metadata": {
        "id": "ST4bAw0QxSum"
      },
      "source": [
        "# para gerar o grafico no browser\n",
        "%matplotlib inline"
      ],
      "execution_count": null,
      "outputs": []
    },
    {
      "cell_type": "code",
      "metadata": {
        "id": "PIY4zsixyqHX",
        "colab": {
          "base_uri": "https://localhost:8080/"
        },
        "outputId": "ccd246fa-abc8-4722-bafa-16cf7ccae731"
      },
      "source": [
        "!git clone https://github.com/thessafuzaro/ANN\n",
        "%cd ANN"
      ],
      "execution_count": null,
      "outputs": [
        {
          "output_type": "stream",
          "text": [
            "Cloning into 'ANN'...\n",
            "remote: Enumerating objects: 80, done.\u001b[K\n",
            "remote: Counting objects: 100% (80/80), done.\u001b[K\n",
            "remote: Compressing objects: 100% (78/78), done.\u001b[K\n",
            "remote: Total 80 (delta 45), reused 0 (delta 0), pack-reused 0\u001b[K\n",
            "Unpacking objects: 100% (80/80), done.\n",
            "/content/ANN\n"
          ],
          "name": "stdout"
        }
      ]
    },
    {
      "cell_type": "code",
      "metadata": {
        "colab": {
          "base_uri": "https://localhost:8080/"
        },
        "id": "E1nKBzh2y2uW",
        "outputId": "22af7329-b666-48b8-d56b-b764c4df59e6"
      },
      "source": [
        "# leitura dos dados\n",
        "df=pd.read_csv(\"Dados_artigo_redes_neurais_atualizados.csv\", delimiter=';')   # pelo pandas (pd) lê o arquivo no formato csv - arquivo de dados como o excel\n",
        "print (df.head)"
      ],
      "execution_count": null,
      "outputs": [
        {
          "output_type": "stream",
          "text": [
            "<bound method NDFrame.head of     No   Range   Mean size   Collector dosage  Impeller speed   Recovery  Grade\n",
            "0    1    16-32         750              0.90             1200     98.18  68.44\n",
            "1    2   16-150         553              0.56             1200     92.71  65.36\n",
            "2    3    16-32         750              0.78             1200     96.74  65.58\n",
            "3    4   32-270         277              0.56             1200     93.27  63.94\n",
            "4    5    16-32         750              0.56             1200     94.55  73.83\n",
            "5    6   32-270         277              0.78             1200     95.69  62.93\n",
            "6    7    16-24         854              0.90             1200     94.19  76.38\n",
            "7    8   32-270         277              0.90             1200     95.82  57.30\n",
            "8    9   32-270         277              1.12             1200     93.90  52.68\n",
            "9   10   32-270         277              0.67             1200     98.13  60.60\n",
            "10  11    16-24         854              1.12             1200     97.71  76.91\n",
            "11  12   16-150         553              0.78             1200     96.85  57.70\n",
            "12  13   16-150         553              0.90             1200     97.56  52.85\n",
            "13  14   16-150         553              1.01             1200     97.67  48.50\n",
            "14  15    16-32         750              1.12             1200     98.84  64.43\n",
            "15  16   16-150         553              0.90             1100     91.21  57.13\n",
            "16  17    16-32         750              1.12             1100     96.98  63.12\n",
            "17  18   16-150         553              1.12             1100     96.47  58.90\n",
            "18  19    16-32         750              0.78             1500     95.48  68.50\n",
            "19  20   16-150         553              0.78             1500     66.15  67.67\n",
            "20  21   16-150         553              0.90             1500     89.74  58.27\n",
            "21  22   16-150         553              1.12             1500     96.20  50.46\n",
            "22  23   24-270         380              0.56             1200     78.44  72.64\n",
            "23  24   24-270         380              0.90             1200     94.06  62.71\n",
            "24  25   24-270         380              0.78             1200     97.68  57.17\n",
            "25  26  150-270          79              0.67             1200     68.51  77.53\n",
            "26  27   24-270         380              1.12             1200     95.27  56.41\n",
            "27  28   24-270         380              0.90             1100     97.77  58.39\n",
            "28  29   24-270         380              1.12             1100     97.68  56.07\n",
            "29  30   24-270         380              0.78             1100     92.99  70.24\n",
            "30  31   24-270         380              0.90             1500     82.99  64.29\n",
            "31  32   24-270         380              1.12             1500     92.54  64.37\n",
            "32  33   16-150         553              0.78             1100     97.17  53.64\n",
            "33  34    16-32         750              0.90             1100     98.47  65.18\n",
            "34  35   24-270         380              0.78             1500     97.49  75.22>\n"
          ],
          "name": "stdout"
        }
      ]
    },
    {
      "cell_type": "code",
      "metadata": {
        "id": "t2m5xJhf7nCs"
      },
      "source": [
        "#Selecionando as colunas de interesse:\n",
        "Dat_Select=df.iloc[:,2:].copy()"
      ],
      "execution_count": null,
      "outputs": []
    },
    {
      "cell_type": "code",
      "metadata": {
        "colab": {
          "base_uri": "https://localhost:8080/",
          "height": 204
        },
        "id": "ArTM3YCbyIxk",
        "outputId": "4f8f445a-0978-41ab-d88c-f748eee83a09"
      },
      "source": [
        "Dat_Select.head (5)"
      ],
      "execution_count": null,
      "outputs": [
        {
          "output_type": "execute_result",
          "data": {
            "text/html": [
              "<div>\n",
              "<style scoped>\n",
              "    .dataframe tbody tr th:only-of-type {\n",
              "        vertical-align: middle;\n",
              "    }\n",
              "\n",
              "    .dataframe tbody tr th {\n",
              "        vertical-align: top;\n",
              "    }\n",
              "\n",
              "    .dataframe thead th {\n",
              "        text-align: right;\n",
              "    }\n",
              "</style>\n",
              "<table border=\"1\" class=\"dataframe\">\n",
              "  <thead>\n",
              "    <tr style=\"text-align: right;\">\n",
              "      <th></th>\n",
              "      <th>Mean size</th>\n",
              "      <th>Collector dosage</th>\n",
              "      <th>Impeller speed</th>\n",
              "      <th>Recovery</th>\n",
              "      <th>Grade</th>\n",
              "    </tr>\n",
              "  </thead>\n",
              "  <tbody>\n",
              "    <tr>\n",
              "      <th>0</th>\n",
              "      <td>750</td>\n",
              "      <td>0.90</td>\n",
              "      <td>1200</td>\n",
              "      <td>98.18</td>\n",
              "      <td>68.44</td>\n",
              "    </tr>\n",
              "    <tr>\n",
              "      <th>1</th>\n",
              "      <td>553</td>\n",
              "      <td>0.56</td>\n",
              "      <td>1200</td>\n",
              "      <td>92.71</td>\n",
              "      <td>65.36</td>\n",
              "    </tr>\n",
              "    <tr>\n",
              "      <th>2</th>\n",
              "      <td>750</td>\n",
              "      <td>0.78</td>\n",
              "      <td>1200</td>\n",
              "      <td>96.74</td>\n",
              "      <td>65.58</td>\n",
              "    </tr>\n",
              "    <tr>\n",
              "      <th>3</th>\n",
              "      <td>277</td>\n",
              "      <td>0.56</td>\n",
              "      <td>1200</td>\n",
              "      <td>93.27</td>\n",
              "      <td>63.94</td>\n",
              "    </tr>\n",
              "    <tr>\n",
              "      <th>4</th>\n",
              "      <td>750</td>\n",
              "      <td>0.56</td>\n",
              "      <td>1200</td>\n",
              "      <td>94.55</td>\n",
              "      <td>73.83</td>\n",
              "    </tr>\n",
              "  </tbody>\n",
              "</table>\n",
              "</div>"
            ],
            "text/plain": [
              "   Mean size   Collector dosage  Impeller speed   Recovery  Grade\n",
              "0         750              0.90             1200     98.18  68.44\n",
              "1         553              0.56             1200     92.71  65.36\n",
              "2         750              0.78             1200     96.74  65.58\n",
              "3         277              0.56             1200     93.27  63.94\n",
              "4         750              0.56             1200     94.55  73.83"
            ]
          },
          "metadata": {
            "tags": []
          },
          "execution_count": 7
        }
      ]
    },
    {
      "cell_type": "code",
      "metadata": {
        "id": "PmcN4TJO3bK3"
      },
      "source": [
        "# Normatização dos dados:\n",
        "def Normatiza(x):\n",
        "  strings= list(x)\n",
        "  for i in strings:\n",
        "    max_x=x[i].max()\n",
        "    min_x=x[i].min()\n",
        "    a=(max_x+min_x)/2\n",
        "    b=(max_x-min_x)/2\n",
        "    x[i]=(x[i]-a)/b\n",
        "  return x"
      ],
      "execution_count": null,
      "outputs": []
    },
    {
      "cell_type": "code",
      "metadata": {
        "id": "V-n6yuuu4Rgn"
      },
      "source": [
        "# Retornando os dados para originais:\n",
        "def Original(x,x_old):\n",
        "  strings=list(x)\n",
        "  for i in strings:\n",
        "     max_x=x_old[i].max()\n",
        "     min_x=x_old[i].min()\n",
        "     a=(max_x+min_x)/2\n",
        "     b=(max_x-min_x)/2\n",
        "     x[i]=x[i]*b+a\n",
        "  return x"
      ],
      "execution_count": null,
      "outputs": []
    },
    {
      "cell_type": "code",
      "metadata": {
        "id": "YZxkIbw0RMuF"
      },
      "source": [
        "#Separando os dados em normatizados e originais:\n",
        "Dat_Old=[]\n",
        "Dat_Old=Dat_Select.copy()\n",
        "Dat=Normatiza(Dat_Select)"
      ],
      "execution_count": null,
      "outputs": []
    },
    {
      "cell_type": "code",
      "metadata": {
        "colab": {
          "base_uri": "https://localhost:8080/",
          "height": 1000
        },
        "id": "AyQpJQYx3zYM",
        "outputId": "b80c06bb-a80c-4539-e32b-49e8441867a3"
      },
      "source": [
        "Dat"
      ],
      "execution_count": null,
      "outputs": [
        {
          "output_type": "execute_result",
          "data": {
            "text/html": [
              "<div>\n",
              "<style scoped>\n",
              "    .dataframe tbody tr th:only-of-type {\n",
              "        vertical-align: middle;\n",
              "    }\n",
              "\n",
              "    .dataframe tbody tr th {\n",
              "        vertical-align: top;\n",
              "    }\n",
              "\n",
              "    .dataframe thead th {\n",
              "        text-align: right;\n",
              "    }\n",
              "</style>\n",
              "<table border=\"1\" class=\"dataframe\">\n",
              "  <thead>\n",
              "    <tr style=\"text-align: right;\">\n",
              "      <th></th>\n",
              "      <th>Mean size</th>\n",
              "      <th>Collector dosage</th>\n",
              "      <th>Impeller speed</th>\n",
              "      <th>Recovery</th>\n",
              "      <th>Grade</th>\n",
              "    </tr>\n",
              "  </thead>\n",
              "  <tbody>\n",
              "    <tr>\n",
              "      <th>0</th>\n",
              "      <td>0.731613</td>\n",
              "      <td>0.214286</td>\n",
              "      <td>-0.5</td>\n",
              "      <td>0.959621</td>\n",
              "      <td>0.373751</td>\n",
              "    </tr>\n",
              "    <tr>\n",
              "      <th>1</th>\n",
              "      <td>0.223226</td>\n",
              "      <td>-1.000000</td>\n",
              "      <td>-0.5</td>\n",
              "      <td>0.624962</td>\n",
              "      <td>0.161557</td>\n",
              "    </tr>\n",
              "    <tr>\n",
              "      <th>2</th>\n",
              "      <td>0.731613</td>\n",
              "      <td>-0.214286</td>\n",
              "      <td>-0.5</td>\n",
              "      <td>0.871520</td>\n",
              "      <td>0.176714</td>\n",
              "    </tr>\n",
              "    <tr>\n",
              "      <th>3</th>\n",
              "      <td>-0.489032</td>\n",
              "      <td>-1.000000</td>\n",
              "      <td>-0.5</td>\n",
              "      <td>0.659223</td>\n",
              "      <td>0.063727</td>\n",
              "    </tr>\n",
              "    <tr>\n",
              "      <th>4</th>\n",
              "      <td>0.731613</td>\n",
              "      <td>-1.000000</td>\n",
              "      <td>-0.5</td>\n",
              "      <td>0.737534</td>\n",
              "      <td>0.745091</td>\n",
              "    </tr>\n",
              "    <tr>\n",
              "      <th>5</th>\n",
              "      <td>-0.489032</td>\n",
              "      <td>-0.214286</td>\n",
              "      <td>-0.5</td>\n",
              "      <td>0.807281</td>\n",
              "      <td>-0.005856</td>\n",
              "    </tr>\n",
              "    <tr>\n",
              "      <th>6</th>\n",
              "      <td>1.000000</td>\n",
              "      <td>0.214286</td>\n",
              "      <td>-0.5</td>\n",
              "      <td>0.715509</td>\n",
              "      <td>0.920772</td>\n",
              "    </tr>\n",
              "    <tr>\n",
              "      <th>7</th>\n",
              "      <td>-0.489032</td>\n",
              "      <td>0.214286</td>\n",
              "      <td>-0.5</td>\n",
              "      <td>0.815234</td>\n",
              "      <td>-0.393731</td>\n",
              "    </tr>\n",
              "    <tr>\n",
              "      <th>8</th>\n",
              "      <td>-0.489032</td>\n",
              "      <td>1.000000</td>\n",
              "      <td>-0.5</td>\n",
              "      <td>0.697767</td>\n",
              "      <td>-0.712022</td>\n",
              "    </tr>\n",
              "    <tr>\n",
              "      <th>9</th>\n",
              "      <td>-0.489032</td>\n",
              "      <td>-0.607143</td>\n",
              "      <td>-0.5</td>\n",
              "      <td>0.956562</td>\n",
              "      <td>-0.166380</td>\n",
              "    </tr>\n",
              "    <tr>\n",
              "      <th>10</th>\n",
              "      <td>1.000000</td>\n",
              "      <td>1.000000</td>\n",
              "      <td>-0.5</td>\n",
              "      <td>0.930866</td>\n",
              "      <td>0.957286</td>\n",
              "    </tr>\n",
              "    <tr>\n",
              "      <th>11</th>\n",
              "      <td>0.223226</td>\n",
              "      <td>-0.214286</td>\n",
              "      <td>-0.5</td>\n",
              "      <td>0.878250</td>\n",
              "      <td>-0.366173</td>\n",
              "    </tr>\n",
              "    <tr>\n",
              "      <th>12</th>\n",
              "      <td>0.223226</td>\n",
              "      <td>0.214286</td>\n",
              "      <td>-0.5</td>\n",
              "      <td>0.921689</td>\n",
              "      <td>-0.700310</td>\n",
              "    </tr>\n",
              "    <tr>\n",
              "      <th>13</th>\n",
              "      <td>0.223226</td>\n",
              "      <td>0.607143</td>\n",
              "      <td>-0.5</td>\n",
              "      <td>0.928418</td>\n",
              "      <td>-1.000000</td>\n",
              "    </tr>\n",
              "    <tr>\n",
              "      <th>14</th>\n",
              "      <td>0.731613</td>\n",
              "      <td>1.000000</td>\n",
              "      <td>-0.5</td>\n",
              "      <td>1.000000</td>\n",
              "      <td>0.097485</td>\n",
              "    </tr>\n",
              "    <tr>\n",
              "      <th>15</th>\n",
              "      <td>0.223226</td>\n",
              "      <td>0.214286</td>\n",
              "      <td>-1.0</td>\n",
              "      <td>0.533191</td>\n",
              "      <td>-0.405443</td>\n",
              "    </tr>\n",
              "    <tr>\n",
              "      <th>16</th>\n",
              "      <td>0.731613</td>\n",
              "      <td>1.000000</td>\n",
              "      <td>-1.0</td>\n",
              "      <td>0.886204</td>\n",
              "      <td>0.007234</td>\n",
              "    </tr>\n",
              "    <tr>\n",
              "      <th>17</th>\n",
              "      <td>0.223226</td>\n",
              "      <td>1.000000</td>\n",
              "      <td>-1.0</td>\n",
              "      <td>0.855002</td>\n",
              "      <td>-0.283500</td>\n",
              "    </tr>\n",
              "    <tr>\n",
              "      <th>18</th>\n",
              "      <td>0.731613</td>\n",
              "      <td>-0.214286</td>\n",
              "      <td>1.0</td>\n",
              "      <td>0.794433</td>\n",
              "      <td>0.377885</td>\n",
              "    </tr>\n",
              "    <tr>\n",
              "      <th>19</th>\n",
              "      <td>0.223226</td>\n",
              "      <td>-0.214286</td>\n",
              "      <td>1.0</td>\n",
              "      <td>-1.000000</td>\n",
              "      <td>0.320703</td>\n",
              "    </tr>\n",
              "    <tr>\n",
              "      <th>20</th>\n",
              "      <td>0.223226</td>\n",
              "      <td>0.214286</td>\n",
              "      <td>1.0</td>\n",
              "      <td>0.443255</td>\n",
              "      <td>-0.326903</td>\n",
              "    </tr>\n",
              "    <tr>\n",
              "      <th>21</th>\n",
              "      <td>0.223226</td>\n",
              "      <td>1.000000</td>\n",
              "      <td>1.0</td>\n",
              "      <td>0.838483</td>\n",
              "      <td>-0.864967</td>\n",
              "    </tr>\n",
              "    <tr>\n",
              "      <th>22</th>\n",
              "      <td>-0.223226</td>\n",
              "      <td>-1.000000</td>\n",
              "      <td>-0.5</td>\n",
              "      <td>-0.248088</td>\n",
              "      <td>0.663107</td>\n",
              "    </tr>\n",
              "    <tr>\n",
              "      <th>23</th>\n",
              "      <td>-0.223226</td>\n",
              "      <td>0.214286</td>\n",
              "      <td>-0.5</td>\n",
              "      <td>0.707556</td>\n",
              "      <td>-0.021013</td>\n",
              "    </tr>\n",
              "    <tr>\n",
              "      <th>24</th>\n",
              "      <td>-0.223226</td>\n",
              "      <td>-0.214286</td>\n",
              "      <td>-0.5</td>\n",
              "      <td>0.929030</td>\n",
              "      <td>-0.402687</td>\n",
              "    </tr>\n",
              "    <tr>\n",
              "      <th>25</th>\n",
              "      <td>-1.000000</td>\n",
              "      <td>-0.607143</td>\n",
              "      <td>-0.5</td>\n",
              "      <td>-0.855613</td>\n",
              "      <td>1.000000</td>\n",
              "    </tr>\n",
              "    <tr>\n",
              "      <th>26</th>\n",
              "      <td>-0.223226</td>\n",
              "      <td>1.000000</td>\n",
              "      <td>-0.5</td>\n",
              "      <td>0.781585</td>\n",
              "      <td>-0.455047</td>\n",
              "    </tr>\n",
              "    <tr>\n",
              "      <th>27</th>\n",
              "      <td>-0.223226</td>\n",
              "      <td>0.214286</td>\n",
              "      <td>-1.0</td>\n",
              "      <td>0.934537</td>\n",
              "      <td>-0.318636</td>\n",
              "    </tr>\n",
              "    <tr>\n",
              "      <th>28</th>\n",
              "      <td>-0.223226</td>\n",
              "      <td>1.000000</td>\n",
              "      <td>-1.0</td>\n",
              "      <td>0.929030</td>\n",
              "      <td>-0.478471</td>\n",
              "    </tr>\n",
              "    <tr>\n",
              "      <th>29</th>\n",
              "      <td>-0.223226</td>\n",
              "      <td>-0.214286</td>\n",
              "      <td>-1.0</td>\n",
              "      <td>0.642092</td>\n",
              "      <td>0.497761</td>\n",
              "    </tr>\n",
              "    <tr>\n",
              "      <th>30</th>\n",
              "      <td>-0.223226</td>\n",
              "      <td>0.214286</td>\n",
              "      <td>1.0</td>\n",
              "      <td>0.030284</td>\n",
              "      <td>0.087840</td>\n",
              "    </tr>\n",
              "    <tr>\n",
              "      <th>31</th>\n",
              "      <td>-0.223226</td>\n",
              "      <td>1.000000</td>\n",
              "      <td>1.0</td>\n",
              "      <td>0.614561</td>\n",
              "      <td>0.093352</td>\n",
              "    </tr>\n",
              "    <tr>\n",
              "      <th>32</th>\n",
              "      <td>0.223226</td>\n",
              "      <td>-0.214286</td>\n",
              "      <td>-1.0</td>\n",
              "      <td>0.897828</td>\n",
              "      <td>-0.645884</td>\n",
              "    </tr>\n",
              "    <tr>\n",
              "      <th>33</th>\n",
              "      <td>0.731613</td>\n",
              "      <td>0.214286</td>\n",
              "      <td>-1.0</td>\n",
              "      <td>0.977363</td>\n",
              "      <td>0.149156</td>\n",
              "    </tr>\n",
              "    <tr>\n",
              "      <th>34</th>\n",
              "      <td>-0.223226</td>\n",
              "      <td>-0.214286</td>\n",
              "      <td>1.0</td>\n",
              "      <td>0.917406</td>\n",
              "      <td>0.840854</td>\n",
              "    </tr>\n",
              "  </tbody>\n",
              "</table>\n",
              "</div>"
            ],
            "text/plain": [
              "    Mean size   Collector dosage  Impeller speed   Recovery     Grade\n",
              "0     0.731613          0.214286             -0.5  0.959621  0.373751\n",
              "1     0.223226         -1.000000             -0.5  0.624962  0.161557\n",
              "2     0.731613         -0.214286             -0.5  0.871520  0.176714\n",
              "3    -0.489032         -1.000000             -0.5  0.659223  0.063727\n",
              "4     0.731613         -1.000000             -0.5  0.737534  0.745091\n",
              "5    -0.489032         -0.214286             -0.5  0.807281 -0.005856\n",
              "6     1.000000          0.214286             -0.5  0.715509  0.920772\n",
              "7    -0.489032          0.214286             -0.5  0.815234 -0.393731\n",
              "8    -0.489032          1.000000             -0.5  0.697767 -0.712022\n",
              "9    -0.489032         -0.607143             -0.5  0.956562 -0.166380\n",
              "10    1.000000          1.000000             -0.5  0.930866  0.957286\n",
              "11    0.223226         -0.214286             -0.5  0.878250 -0.366173\n",
              "12    0.223226          0.214286             -0.5  0.921689 -0.700310\n",
              "13    0.223226          0.607143             -0.5  0.928418 -1.000000\n",
              "14    0.731613          1.000000             -0.5  1.000000  0.097485\n",
              "15    0.223226          0.214286             -1.0  0.533191 -0.405443\n",
              "16    0.731613          1.000000             -1.0  0.886204  0.007234\n",
              "17    0.223226          1.000000             -1.0  0.855002 -0.283500\n",
              "18    0.731613         -0.214286              1.0  0.794433  0.377885\n",
              "19    0.223226         -0.214286              1.0 -1.000000  0.320703\n",
              "20    0.223226          0.214286              1.0  0.443255 -0.326903\n",
              "21    0.223226          1.000000              1.0  0.838483 -0.864967\n",
              "22   -0.223226         -1.000000             -0.5 -0.248088  0.663107\n",
              "23   -0.223226          0.214286             -0.5  0.707556 -0.021013\n",
              "24   -0.223226         -0.214286             -0.5  0.929030 -0.402687\n",
              "25   -1.000000         -0.607143             -0.5 -0.855613  1.000000\n",
              "26   -0.223226          1.000000             -0.5  0.781585 -0.455047\n",
              "27   -0.223226          0.214286             -1.0  0.934537 -0.318636\n",
              "28   -0.223226          1.000000             -1.0  0.929030 -0.478471\n",
              "29   -0.223226         -0.214286             -1.0  0.642092  0.497761\n",
              "30   -0.223226          0.214286              1.0  0.030284  0.087840\n",
              "31   -0.223226          1.000000              1.0  0.614561  0.093352\n",
              "32    0.223226         -0.214286             -1.0  0.897828 -0.645884\n",
              "33    0.731613          0.214286             -1.0  0.977363  0.149156\n",
              "34   -0.223226         -0.214286              1.0  0.917406  0.840854"
            ]
          },
          "metadata": {
            "tags": []
          },
          "execution_count": 11
        }
      ]
    },
    {
      "cell_type": "code",
      "metadata": {
        "id": "fdA5xj3q4TUC"
      },
      "source": [
        "#Separando os dados para treino e teste da Rede Neural\n",
        "Train=Dat.sample(frac=0.8,random_state=None)\n",
        "Test=Dat.drop(Train.index)"
      ],
      "execution_count": null,
      "outputs": []
    },
    {
      "cell_type": "code",
      "metadata": {
        "colab": {
          "base_uri": "https://localhost:8080/"
        },
        "id": "fQE_ODtf5T4e",
        "outputId": "b5505054-216a-4b36-f17a-facc59e41316"
      },
      "source": [
        "print(Train.head)"
      ],
      "execution_count": null,
      "outputs": [
        {
          "output_type": "stream",
          "text": [
            "<bound method NDFrame.head of     Mean size   Collector dosage  Impeller speed   Recovery     Grade\n",
            "29   -0.223226         -0.214286             -1.0  0.642092  0.497761\n",
            "20    0.223226          0.214286              1.0  0.443255 -0.326903\n",
            "16    0.731613          1.000000             -1.0  0.886204  0.007234\n",
            "28   -0.223226          1.000000             -1.0  0.929030 -0.478471\n",
            "22   -0.223226         -1.000000             -0.5 -0.248088  0.663107\n",
            "15    0.223226          0.214286             -1.0  0.533191 -0.405443\n",
            "10    1.000000          1.000000             -0.5  0.930866  0.957286\n",
            "2     0.731613         -0.214286             -0.5  0.871520  0.176714\n",
            "11    0.223226         -0.214286             -0.5  0.878250 -0.366173\n",
            "27   -0.223226          0.214286             -1.0  0.934537 -0.318636\n",
            "25   -1.000000         -0.607143             -0.5 -0.855613  1.000000\n",
            "34   -0.223226         -0.214286              1.0  0.917406  0.840854\n",
            "32    0.223226         -0.214286             -1.0  0.897828 -0.645884\n",
            "26   -0.223226          1.000000             -0.5  0.781585 -0.455047\n",
            "30   -0.223226          0.214286              1.0  0.030284  0.087840\n",
            "8    -0.489032          1.000000             -0.5  0.697767 -0.712022\n",
            "13    0.223226          0.607143             -0.5  0.928418 -1.000000\n",
            "5    -0.489032         -0.214286             -0.5  0.807281 -0.005856\n",
            "17    0.223226          1.000000             -1.0  0.855002 -0.283500\n",
            "14    0.731613          1.000000             -0.5  1.000000  0.097485\n",
            "31   -0.223226          1.000000              1.0  0.614561  0.093352\n",
            "24   -0.223226         -0.214286             -0.5  0.929030 -0.402687\n",
            "1     0.223226         -1.000000             -0.5  0.624962  0.161557\n",
            "12    0.223226          0.214286             -0.5  0.921689 -0.700310\n",
            "6     1.000000          0.214286             -0.5  0.715509  0.920772\n",
            "23   -0.223226          0.214286             -0.5  0.707556 -0.021013\n",
            "4     0.731613         -1.000000             -0.5  0.737534  0.745091\n",
            "18    0.731613         -0.214286              1.0  0.794433  0.377885>\n"
          ],
          "name": "stdout"
        }
      ]
    },
    {
      "cell_type": "code",
      "metadata": {
        "colab": {
          "base_uri": "https://localhost:8080/"
        },
        "id": "o1rBrZUZ5ePT",
        "outputId": "6a2594d3-b882-4877-8062-065d1f9e6e82"
      },
      "source": [
        "print(Test.head)"
      ],
      "execution_count": null,
      "outputs": [
        {
          "output_type": "stream",
          "text": [
            "<bound method NDFrame.head of     Mean size   Collector dosage  Impeller speed   Recovery     Grade\n",
            "0     0.731613          0.214286             -0.5  0.959621  0.373751\n",
            "3    -0.489032         -1.000000             -0.5  0.659223  0.063727\n",
            "7    -0.489032          0.214286             -0.5  0.815234 -0.393731\n",
            "9    -0.489032         -0.607143             -0.5  0.956562 -0.166380\n",
            "19    0.223226         -0.214286              1.0 -1.000000  0.320703\n",
            "21    0.223226          1.000000              1.0  0.838483 -0.864967\n",
            "33    0.731613          0.214286             -1.0  0.977363  0.149156>\n"
          ],
          "name": "stdout"
        }
      ]
    },
    {
      "cell_type": "code",
      "metadata": {
        "id": "F5-v3pRJ5hPX"
      },
      "source": [
        "# Obtendo as variaveis independentes (treino e teste)\n",
        "Index=[0,1,2]\n",
        "x_Train=Train.iloc[:,Index]\n",
        "x_Test=Test.iloc[:,Index]\n",
        "X_Old=Dat_Old.iloc[:,Index]"
      ],
      "execution_count": null,
      "outputs": []
    },
    {
      "cell_type": "code",
      "metadata": {
        "id": "_dfzuGVHF3LH"
      },
      "source": [
        "# Obtendo as variaveis dependentes Recovery e Grade (treino e teste)\n",
        "y_Train=Train.iloc[:,[3,4]]\n",
        "y_Test=Test.iloc[:,[3,4]]\n",
        "Y_Old=Dat_Old.iloc[:,[3,4]]"
      ],
      "execution_count": null,
      "outputs": []
    },
    {
      "cell_type": "code",
      "metadata": {
        "id": "idB52GbWHGwf"
      },
      "source": [
        "#Definindo a Rede Neural \n",
        "model = MLPRegressor(solver='lbfgs',activation='tanh',alpha=1e-5,max_iter=2000,\n",
        "                     hidden_layer_sizes=(9,11),random_state=6)"
      ],
      "execution_count": null,
      "outputs": []
    },
    {
      "cell_type": "code",
      "metadata": {
        "id": "1k-E0x-bHejo",
        "colab": {
          "base_uri": "https://localhost:8080/"
        },
        "outputId": "fe2d62cb-1e8d-40c3-be63-9b36769df15d"
      },
      "source": [
        "#Treinando a Rede Neural\n",
        "model.fit(x_Train, y_Train)"
      ],
      "execution_count": null,
      "outputs": [
        {
          "output_type": "execute_result",
          "data": {
            "text/plain": [
              "MLPRegressor(activation='tanh', alpha=1e-05, batch_size='auto', beta_1=0.9,\n",
              "             beta_2=0.999, early_stopping=False, epsilon=1e-08,\n",
              "             hidden_layer_sizes=(9, 11), learning_rate='constant',\n",
              "             learning_rate_init=0.001, max_fun=15000, max_iter=2000,\n",
              "             momentum=0.9, n_iter_no_change=10, nesterovs_momentum=True,\n",
              "             power_t=0.5, random_state=6, shuffle=True, solver='lbfgs',\n",
              "             tol=0.0001, validation_fraction=0.1, verbose=False,\n",
              "             warm_start=False)"
            ]
          },
          "metadata": {
            "tags": []
          },
          "execution_count": 18
        }
      ]
    },
    {
      "cell_type": "code",
      "metadata": {
        "id": "Ivzn7KEDS12o"
      },
      "source": [
        "# Usando a rede neural treina em calculos para treino e teste\n",
        "y_Calc_Train=model.predict(x_Train)\n",
        "y_Calc_Test=model.predict(x_Test)"
      ],
      "execution_count": null,
      "outputs": []
    },
    {
      "cell_type": "code",
      "metadata": {
        "id": "HJS4EDLAS4wH"
      },
      "source": [
        "# Transformando a saida da rede em dataframe \n",
        "y_Calc_Train=pd.DataFrame(y_Calc_Train)\n",
        "y_Calc_Test=pd.DataFrame(y_Calc_Test)\n",
        "Col_Names=list(y_Train)\n",
        "y_Calc_Train.columns = Col_Names\n",
        "y_Calc_Test.columns = Col_Names"
      ],
      "execution_count": null,
      "outputs": []
    },
    {
      "cell_type": "code",
      "metadata": {
        "id": "lmQHNHXCS-o_"
      },
      "source": [
        "# Transforma dos dados calculados na forma original (não normatizados)\n",
        "y_Calc_Train=Original(y_Calc_Train,Y_Old)\n",
        "y_Calc_Test=Original(y_Calc_Test,Y_Old)"
      ],
      "execution_count": null,
      "outputs": []
    },
    {
      "cell_type": "code",
      "metadata": {
        "id": "6xeXKS2bTFbH"
      },
      "source": [
        "# Recuperando os dados originais \n",
        "Test=[]\n",
        "Train=[]\n",
        "Train=Original(y_Train,Y_Old)\n",
        "Test=Original(y_Test,Y_Old)"
      ],
      "execution_count": null,
      "outputs": []
    },
    {
      "cell_type": "code",
      "metadata": {
        "id": "Ns4i0tWbTKld",
        "colab": {
          "base_uri": "https://localhost:8080/",
          "height": 917
        },
        "outputId": "5ac44a7d-230f-4ada-fbf6-04edb4a64f24"
      },
      "source": [
        "Train"
      ],
      "execution_count": null,
      "outputs": [
        {
          "output_type": "execute_result",
          "data": {
            "text/html": [
              "<div>\n",
              "<style scoped>\n",
              "    .dataframe tbody tr th:only-of-type {\n",
              "        vertical-align: middle;\n",
              "    }\n",
              "\n",
              "    .dataframe tbody tr th {\n",
              "        vertical-align: top;\n",
              "    }\n",
              "\n",
              "    .dataframe thead th {\n",
              "        text-align: right;\n",
              "    }\n",
              "</style>\n",
              "<table border=\"1\" class=\"dataframe\">\n",
              "  <thead>\n",
              "    <tr style=\"text-align: right;\">\n",
              "      <th></th>\n",
              "      <th>Recovery</th>\n",
              "      <th>Grade</th>\n",
              "    </tr>\n",
              "  </thead>\n",
              "  <tbody>\n",
              "    <tr>\n",
              "      <th>29</th>\n",
              "      <td>92.99</td>\n",
              "      <td>70.24</td>\n",
              "    </tr>\n",
              "    <tr>\n",
              "      <th>20</th>\n",
              "      <td>89.74</td>\n",
              "      <td>58.27</td>\n",
              "    </tr>\n",
              "    <tr>\n",
              "      <th>16</th>\n",
              "      <td>96.98</td>\n",
              "      <td>63.12</td>\n",
              "    </tr>\n",
              "    <tr>\n",
              "      <th>28</th>\n",
              "      <td>97.68</td>\n",
              "      <td>56.07</td>\n",
              "    </tr>\n",
              "    <tr>\n",
              "      <th>22</th>\n",
              "      <td>78.44</td>\n",
              "      <td>72.64</td>\n",
              "    </tr>\n",
              "    <tr>\n",
              "      <th>15</th>\n",
              "      <td>91.21</td>\n",
              "      <td>57.13</td>\n",
              "    </tr>\n",
              "    <tr>\n",
              "      <th>10</th>\n",
              "      <td>97.71</td>\n",
              "      <td>76.91</td>\n",
              "    </tr>\n",
              "    <tr>\n",
              "      <th>2</th>\n",
              "      <td>96.74</td>\n",
              "      <td>65.58</td>\n",
              "    </tr>\n",
              "    <tr>\n",
              "      <th>11</th>\n",
              "      <td>96.85</td>\n",
              "      <td>57.70</td>\n",
              "    </tr>\n",
              "    <tr>\n",
              "      <th>27</th>\n",
              "      <td>97.77</td>\n",
              "      <td>58.39</td>\n",
              "    </tr>\n",
              "    <tr>\n",
              "      <th>25</th>\n",
              "      <td>68.51</td>\n",
              "      <td>77.53</td>\n",
              "    </tr>\n",
              "    <tr>\n",
              "      <th>34</th>\n",
              "      <td>97.49</td>\n",
              "      <td>75.22</td>\n",
              "    </tr>\n",
              "    <tr>\n",
              "      <th>32</th>\n",
              "      <td>97.17</td>\n",
              "      <td>53.64</td>\n",
              "    </tr>\n",
              "    <tr>\n",
              "      <th>26</th>\n",
              "      <td>95.27</td>\n",
              "      <td>56.41</td>\n",
              "    </tr>\n",
              "    <tr>\n",
              "      <th>30</th>\n",
              "      <td>82.99</td>\n",
              "      <td>64.29</td>\n",
              "    </tr>\n",
              "    <tr>\n",
              "      <th>8</th>\n",
              "      <td>93.90</td>\n",
              "      <td>52.68</td>\n",
              "    </tr>\n",
              "    <tr>\n",
              "      <th>13</th>\n",
              "      <td>97.67</td>\n",
              "      <td>48.50</td>\n",
              "    </tr>\n",
              "    <tr>\n",
              "      <th>5</th>\n",
              "      <td>95.69</td>\n",
              "      <td>62.93</td>\n",
              "    </tr>\n",
              "    <tr>\n",
              "      <th>17</th>\n",
              "      <td>96.47</td>\n",
              "      <td>58.90</td>\n",
              "    </tr>\n",
              "    <tr>\n",
              "      <th>14</th>\n",
              "      <td>98.84</td>\n",
              "      <td>64.43</td>\n",
              "    </tr>\n",
              "    <tr>\n",
              "      <th>31</th>\n",
              "      <td>92.54</td>\n",
              "      <td>64.37</td>\n",
              "    </tr>\n",
              "    <tr>\n",
              "      <th>24</th>\n",
              "      <td>97.68</td>\n",
              "      <td>57.17</td>\n",
              "    </tr>\n",
              "    <tr>\n",
              "      <th>1</th>\n",
              "      <td>92.71</td>\n",
              "      <td>65.36</td>\n",
              "    </tr>\n",
              "    <tr>\n",
              "      <th>12</th>\n",
              "      <td>97.56</td>\n",
              "      <td>52.85</td>\n",
              "    </tr>\n",
              "    <tr>\n",
              "      <th>6</th>\n",
              "      <td>94.19</td>\n",
              "      <td>76.38</td>\n",
              "    </tr>\n",
              "    <tr>\n",
              "      <th>23</th>\n",
              "      <td>94.06</td>\n",
              "      <td>62.71</td>\n",
              "    </tr>\n",
              "    <tr>\n",
              "      <th>4</th>\n",
              "      <td>94.55</td>\n",
              "      <td>73.83</td>\n",
              "    </tr>\n",
              "    <tr>\n",
              "      <th>18</th>\n",
              "      <td>95.48</td>\n",
              "      <td>68.50</td>\n",
              "    </tr>\n",
              "  </tbody>\n",
              "</table>\n",
              "</div>"
            ],
            "text/plain": [
              "    Recovery  Grade\n",
              "29     92.99  70.24\n",
              "20     89.74  58.27\n",
              "16     96.98  63.12\n",
              "28     97.68  56.07\n",
              "22     78.44  72.64\n",
              "15     91.21  57.13\n",
              "10     97.71  76.91\n",
              "2      96.74  65.58\n",
              "11     96.85  57.70\n",
              "27     97.77  58.39\n",
              "25     68.51  77.53\n",
              "34     97.49  75.22\n",
              "32     97.17  53.64\n",
              "26     95.27  56.41\n",
              "30     82.99  64.29\n",
              "8      93.90  52.68\n",
              "13     97.67  48.50\n",
              "5      95.69  62.93\n",
              "17     96.47  58.90\n",
              "14     98.84  64.43\n",
              "31     92.54  64.37\n",
              "24     97.68  57.17\n",
              "1      92.71  65.36\n",
              "12     97.56  52.85\n",
              "6      94.19  76.38\n",
              "23     94.06  62.71\n",
              "4      94.55  73.83\n",
              "18     95.48  68.50"
            ]
          },
          "metadata": {
            "tags": []
          },
          "execution_count": 23
        }
      ]
    },
    {
      "cell_type": "code",
      "metadata": {
        "colab": {
          "base_uri": "https://localhost:8080/",
          "height": 266
        },
        "id": "T8AHm3dA9B7J",
        "outputId": "58655ff0-50b6-4096-ee0b-77cc4d0b3e5f"
      },
      "source": [
        "Test"
      ],
      "execution_count": null,
      "outputs": [
        {
          "output_type": "execute_result",
          "data": {
            "text/html": [
              "<div>\n",
              "<style scoped>\n",
              "    .dataframe tbody tr th:only-of-type {\n",
              "        vertical-align: middle;\n",
              "    }\n",
              "\n",
              "    .dataframe tbody tr th {\n",
              "        vertical-align: top;\n",
              "    }\n",
              "\n",
              "    .dataframe thead th {\n",
              "        text-align: right;\n",
              "    }\n",
              "</style>\n",
              "<table border=\"1\" class=\"dataframe\">\n",
              "  <thead>\n",
              "    <tr style=\"text-align: right;\">\n",
              "      <th></th>\n",
              "      <th>Recovery</th>\n",
              "      <th>Grade</th>\n",
              "    </tr>\n",
              "  </thead>\n",
              "  <tbody>\n",
              "    <tr>\n",
              "      <th>0</th>\n",
              "      <td>98.18</td>\n",
              "      <td>68.44</td>\n",
              "    </tr>\n",
              "    <tr>\n",
              "      <th>3</th>\n",
              "      <td>93.27</td>\n",
              "      <td>63.94</td>\n",
              "    </tr>\n",
              "    <tr>\n",
              "      <th>7</th>\n",
              "      <td>95.82</td>\n",
              "      <td>57.30</td>\n",
              "    </tr>\n",
              "    <tr>\n",
              "      <th>9</th>\n",
              "      <td>98.13</td>\n",
              "      <td>60.60</td>\n",
              "    </tr>\n",
              "    <tr>\n",
              "      <th>19</th>\n",
              "      <td>66.15</td>\n",
              "      <td>67.67</td>\n",
              "    </tr>\n",
              "    <tr>\n",
              "      <th>21</th>\n",
              "      <td>96.20</td>\n",
              "      <td>50.46</td>\n",
              "    </tr>\n",
              "    <tr>\n",
              "      <th>33</th>\n",
              "      <td>98.47</td>\n",
              "      <td>65.18</td>\n",
              "    </tr>\n",
              "  </tbody>\n",
              "</table>\n",
              "</div>"
            ],
            "text/plain": [
              "    Recovery  Grade\n",
              "0      98.18  68.44\n",
              "3      93.27  63.94\n",
              "7      95.82  57.30\n",
              "9      98.13  60.60\n",
              "19     66.15  67.67\n",
              "21     96.20  50.46\n",
              "33     98.47  65.18"
            ]
          },
          "metadata": {
            "tags": []
          },
          "execution_count": 24
        }
      ]
    },
    {
      "cell_type": "code",
      "metadata": {
        "id": "u0BbLORvTRLl"
      },
      "source": [
        "# Escolhendo uma das resposta para fazer o gráfico (Teino - Recovery)\n",
        "Obs_Train_Recovery=[]\n",
        "Calc_Train_Recovery=[]\n",
        "Calc_Train_Recovery=y_Calc_Train['Recovery'].copy()\n",
        "Obs_Train_Recovery=Train['Recovery'].copy()"
      ],
      "execution_count": null,
      "outputs": []
    },
    {
      "cell_type": "code",
      "metadata": {
        "id": "pnENmx30TXep"
      },
      "source": [
        "# Escolhendo uma das resposta para fazer o grafico (Teste- Recovery)\n",
        "Obs_Test_Recovery=[]\n",
        "Calc_Test_Recovery=[]\n",
        "Calc_Test_Recovery=y_Calc_Test['Recovery'].copy()\n",
        "Obs_Test_Recovery=Test['Recovery'].copy()"
      ],
      "execution_count": null,
      "outputs": []
    },
    {
      "cell_type": "code",
      "metadata": {
        "id": "eBVP0Vw3TfcM",
        "colab": {
          "base_uri": "https://localhost:8080/",
          "height": 279
        },
        "outputId": "7be610c6-ab7d-478f-97d4-e5fa40c3c41c"
      },
      "source": [
        "# Expressando os dois dados em figura\n",
        "fig = plt.figure()\n",
        "ax1 = fig.add_subplot(111)\n",
        "\n",
        "ax1.scatter(Obs_Test_Recovery,Calc_Test_Recovery, s=10, c='b', marker=\"s\", label='Teste')\n",
        "ax1.scatter(Obs_Train_Recovery,Calc_Train_Recovery, s=10, c='r', marker=\"o\", label='Treino')\n",
        "plt.legend(loc='upper left')\n",
        "plt.ylabel('Recovery Calc')\n",
        "plt.xlabel('Recovery Obs')\n",
        "plt.show()"
      ],
      "execution_count": null,
      "outputs": [
        {
          "output_type": "display_data",
          "data": {
            "image/png": "[encoded data removed]",
            "text/plain": [
              "<Figure size 432x288 with 1 Axes>"
            ]
          },
          "metadata": {
            "tags": [],
            "needs_background": "light"
          }
        }
      ]
    },
    {
      "cell_type": "code",
      "metadata": {
        "id": "r3joMJaaTlH1",
        "colab": {
          "base_uri": "https://localhost:8080/"
        },
        "outputId": "1a87094b-1826-4bda-dbf3-3dfbb7b64730"
      },
      "source": [
        "MSE_Recovery_Test=mean_squared_error(Obs_Test_Recovery,Calc_Test_Recovery)\n",
        "print(\"MSE Recovery Teste=\",MSE_Recovery_Test)\n",
        "R2_Recovery_Test=r2_score(Obs_Test_Recovery,Calc_Test_Recovery)\n",
        "print(\"R^2 Recovery Teste=\",R2_Recovery_Test)"
      ],
      "execution_count": null,
      "outputs": [
        {
          "output_type": "stream",
          "text": [
            "MSE Recovery Teste= 173.97273897205216\n",
            "R^2 Recovery Teste= -0.4869574841492912\n"
          ],
          "name": "stdout"
        }
      ]
    },
    {
      "cell_type": "code",
      "metadata": {
        "id": "bBCdfifHTqQd",
        "colab": {
          "base_uri": "https://localhost:8080/"
        },
        "outputId": "5176559f-26e8-4247-af1d-d7c99092e0c2"
      },
      "source": [
        "MSE_Recovery_Train=mean_squared_error(Obs_Train_Recovery,Calc_Train_Recovery)\n",
        "print(\"MSE Recovery Treino=\",MSE_Recovery_Train)\n",
        "R2_Recovery_Train=r2_score(Obs_Train_Recovery,Calc_Train_Recovery)\n",
        "print(\"R^2 Recovery Treino=\",R2_Recovery_Train)"
      ],
      "execution_count": null,
      "outputs": [
        {
          "output_type": "stream",
          "text": [
            "MSE Recovery Treino= 0.004249780555624761\n",
            "R^2 Recovery Treino= 0.999901016256786\n"
          ],
          "name": "stdout"
        }
      ]
    },
    {
      "cell_type": "code",
      "metadata": {
        "id": "NMISDLAbjz9L"
      },
      "source": [
        "# Escolhendo uma das resposta para fazer o gráfico (Teino - Grade)\n",
        "Obs_Train_Grade=[]\n",
        "Calc_Train_Grade=[]\n",
        "Calc_Train_Grade=y_Calc_Train['Grade'].copy()\n",
        "Obs_Train_Grade=Train['Grade'].copy()"
      ],
      "execution_count": null,
      "outputs": []
    },
    {
      "cell_type": "code",
      "metadata": {
        "id": "WgIMBpPYniVs"
      },
      "source": [
        "# Escolhendo uma das resposta para fazer o grafico (Teste- Recovery)\n",
        "Obs_Test_Grade=[]\n",
        "Calc_Test_Grade=[]\n",
        "Calc_Test_Grade=y_Calc_Test['Grade'].copy()\n",
        "Obs_Test_Grade=Test['Grade'].copy()"
      ],
      "execution_count": null,
      "outputs": []
    },
    {
      "cell_type": "code",
      "metadata": {
        "id": "nduwrryJn5MH",
        "colab": {
          "base_uri": "https://localhost:8080/",
          "height": 279
        },
        "outputId": "e0dd789d-3d2a-400b-a340-48fd14745063"
      },
      "source": [
        "# Expressando os dois dados em figura (Grade)\n",
        "fig = plt.figure()\n",
        "ax1 = fig.add_subplot(111)\n",
        "\n",
        "ax1.scatter(Obs_Test_Grade,Calc_Test_Grade, s=10, c='b', marker=\"s\", label='Teste')\n",
        "ax1.scatter(Obs_Train_Grade,Calc_Train_Grade, s=10, c='r', marker=\"o\", label='Treino')\n",
        "plt.legend(loc='upper left')\n",
        "plt.ylabel('Grade Calc')\n",
        "plt.xlabel('Grade Obs')\n",
        "plt.show()"
      ],
      "execution_count": null,
      "outputs": [
        {
          "output_type": "display_data",
          "data": {
            "image/png": "[encoded data removed]",
            "text/plain": [
              "<Figure size 432x288 with 1 Axes>"
            ]
          },
          "metadata": {
            "tags": [],
            "needs_background": "light"
          }
        }
      ]
    },
    {
      "cell_type": "code",
      "metadata": {
        "id": "hbHEi62tpNPk",
        "colab": {
          "base_uri": "https://localhost:8080/"
        },
        "outputId": "809deb9b-c9b0-4c24-a0c7-346491955f26"
      },
      "source": [
        "MSE_Grade_Test=mean_squared_error(Obs_Test_Grade,Calc_Test_Grade)\n",
        "print(\"MSE Grade Teste=\",MSE_Grade_Test)\n",
        "R2_Grade_Test=r2_score(Obs_Test_Grade,Calc_Test_Grade)\n",
        "print(\"R^2 Grade Teste=\",R2_Grade_Test)"
      ],
      "execution_count": null,
      "outputs": [
        {
          "output_type": "stream",
          "text": [
            "MSE Grade Teste= 115.74784641136533\n",
            "R^2 Grade Teste= -2.311188744660228\n"
          ],
          "name": "stdout"
        }
      ]
    },
    {
      "cell_type": "code",
      "metadata": {
        "id": "VwEpsBObpuX1",
        "colab": {
          "base_uri": "https://localhost:8080/"
        },
        "outputId": "0d55112c-73c8-4ee1-a5f2-12579b5e8bc2"
      },
      "source": [
        "MSE_Grade_Train=mean_squared_error(Obs_Train_Grade,Calc_Train_Grade)\n",
        "print(\"MSE Grade Treino=\",MSE_Grade_Train)\n",
        "R2_Grade_Train=r2_score(Obs_Train_Grade,Calc_Train_Grade)\n",
        "print(\"R^2 Grade Treino=\",R2_Grade_Train)"
      ],
      "execution_count": null,
      "outputs": [
        {
          "output_type": "stream",
          "text": [
            "MSE Grade Treino= 0.0005403612788181135\n",
            "R^2 Grade Treino= 0.999991582344781\n"
          ],
          "name": "stdout"
        }
      ]
    }
  ]
}