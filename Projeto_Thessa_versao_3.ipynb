{
  "nbformat": 4,
  "nbformat_minor": 0,
  "metadata": {
    "colab": {
      "name": "Projeto_Thessa_versao_3.ipynb",
      "provenance": [],
      "authorship_tag": "ABX9TyMeikRD25jGIxmOG7yp6FCC",
      "include_colab_link": true
    },
    "kernelspec": {
      "name": "python3",
      "display_name": "Python 3"
    },
    "language_info": {
      "name": "python"
    }
  },
  "cells": [
    {
      "cell_type": "markdown",
      "metadata": {
        "id": "view-in-github",
        "colab_type": "text"
      },
      "source": [
        "<a href=\"https://colab.research.google.com/github/thessafuzaro/ANN/blob/main/Projeto_Thessa_versao_3.ipynb\" target=\"_parent\"><img src=\"https://colab.research.google.com/assets/colab-badge.svg\" alt=\"Open In Colab\"/></a>"
      ]
    },
    {
      "cell_type": "code",
      "metadata": {
        "id": "RvbXkT6Niq-l",
        "colab": {
          "base_uri": "https://localhost:8080/",
          "height": 53
        },
        "outputId": "1d2979f3-ea01-4f8f-8962-9a1d7834e4f8"
      },
      "source": [
        "'''Primeiro projeto de redes neurais\n",
        "Aluna: Thessa Fuzaro Mendes\n",
        "Artigo: On the optimiation of froth flotation by the use of an artificial neural network [Al-Thyabat S]\n",
        "Data: 11/05/2021'''"
      ],
      "execution_count": 84,
      "outputs": [
        {
          "output_type": "execute_result",
          "data": {
            "application/vnd.google.colaboratory.intrinsic+json": {
              "type": "string"
            },
            "text/plain": [
              "'Primeiro projeto de redes neurais\\nAluna: Thessa Fuzaro Mendes\\nArtigo: On the optimiation of froth flotation by the use of an artificial neural network [Al-Thyabat S]\\nData: 11/05/2021'"
            ]
          },
          "metadata": {
            "tags": []
          },
          "execution_count": 84
        }
      ]
    },
    {
      "cell_type": "code",
      "metadata": {
        "id": "R6aspZiHeEv0"
      },
      "source": [
        "#Bibliotecas necessárias\n",
        "import os\n",
        "import numpy as np   # biblioteca númerica do python\n",
        "import pandas as pd \n",
        "import matplotlib.pyplot as plt\n",
        "from sklearn.neural_network import MLPRegressor\n",
        "from sklearn.model_selection import train_test_split\n",
        "from sklearn.metrics import mean_squared_error\n",
        "from sklearn import preprocessing\n",
        "from sklearn.metrics import r2_score "
      ],
      "execution_count": 85,
      "outputs": []
    },
    {
      "cell_type": "code",
      "metadata": {
        "id": "ST4bAw0QxSum"
      },
      "source": [
        "# para gerar o grafico no browser\n",
        "%matplotlib inline"
      ],
      "execution_count": 86,
      "outputs": []
    },
    {
      "cell_type": "code",
      "metadata": {
        "id": "PIY4zsixyqHX",
        "colab": {
          "base_uri": "https://localhost:8080/"
        },
        "outputId": "4199342b-0ca3-4e42-83db-618fe9983d8b"
      },
      "source": [
        "!git clone https://github.com/thessafuzaro/ANN\n",
        "%cd ANN"
      ],
      "execution_count": 87,
      "outputs": [
        {
          "output_type": "stream",
          "text": [
            "Cloning into 'ANN'...\n",
            "remote: Enumerating objects: 140, done.\u001b[K\n",
            "remote: Counting objects: 100% (140/140), done.\u001b[K\n",
            "remote: Compressing objects: 100% (138/138), done.\u001b[K\n",
            "remote: Total 140 (delta 82), reused 0 (delta 0), pack-reused 0\u001b[K\n",
            "Receiving objects: 100% (140/140), 196.92 KiB | 7.57 MiB/s, done.\n",
            "Resolving deltas: 100% (82/82), done.\n",
            "/content/ANN/ANN/ANN/ANN/ANN/ANN\n"
          ],
          "name": "stdout"
        }
      ]
    },
    {
      "cell_type": "code",
      "metadata": {
        "colab": {
          "base_uri": "https://localhost:8080/"
        },
        "id": "E1nKBzh2y2uW",
        "outputId": "2b5e3cdf-5067-482d-dd07-642c7a1dc604"
      },
      "source": [
        "# leitura dos dados\n",
        "df=pd.read_csv(\"Dados_artigo_redes_neurais_atualizados.csv\", delimiter=';')   # pelo pandas (pd) lê o arquivo no formato csv - arquivo de dados como o excel\n",
        "print (df.head)"
      ],
      "execution_count": 88,
      "outputs": [
        {
          "output_type": "stream",
          "text": [
            "<bound method NDFrame.head of     No    Range  Mean_size  Collector_dosage  Impeller_speed  Recovery  Grade\n",
            "0    1    16-32        750              0.90            1100     98.47  65.18\n",
            "1    2   16-150        553              0.56            1200     92.71  65.36\n",
            "2    3  150-270         79              0.67            1200     68.51  77.53\n",
            "3    4   32-270        277              1.12            1200     93.90  52.68\n",
            "4    5   24-270        380              0.90            1500     82.99  64.29\n",
            "5    6   32-270        277              0.78            1200     95.69  62.93\n",
            "6    7    16-24        854              0.90            1200     94.19  76.38\n",
            "7    8   16-150        553              0.78            1500     66.15  67.67\n",
            "8    9   24-270        380              1.12            1100     97.68  56.07\n",
            "9   10   32-270        277              0.67            1200     98.13  60.60\n",
            "10  11    16-24        854              1.12            1200     97.71  76.91\n",
            "11  12   16-150        553              0.78            1200     96.85  57.70\n",
            "12  13   16-150        553              0.90            1200     97.56  52.85\n",
            "13  14   16-150        553              1.01            1200     97.67  48.50\n",
            "14  15    16-32        750              1.12            1200     98.84  64.43\n",
            "15  16   16-150        553              0.90            1100     91.21  57.13\n",
            "16  17    16-32        750              1.12            1100     96.98  63.12\n",
            "17  18   16-150        553              1.12            1100     96.47  58.90\n",
            "18  19    16-32        750              0.78            1500     95.48  68.50\n",
            "19  20   32-270        277              0.90            1200     95.82  57.30\n",
            "20  21   16-150        553              0.90            1500     89.74  58.27\n",
            "21  22   16-150        553              1.12            1500     96.20  50.46\n",
            "22  23   24-270        380              0.56            1200     78.44  72.64\n",
            "23  24   24-270        380              0.90            1200     94.06  62.71\n",
            "24  25   24-270        380              0.78            1200     97.68  57.17\n",
            "25  26    16-32        750              0.78            1200     96.74  65.58\n",
            "26  27   24-270        380              1.12            1200     95.27  56.41\n",
            "27  28   24-270        380              0.90            1100     97.77  58.39\n",
            "28  29   32-270        277              0.56            1200     93.27  63.94\n",
            "29  30   24-270        380              0.78            1100     92.99  70.24\n",
            "30  31    16-32        750              0.56            1200     94.55  73.83\n",
            "31  32   24-270        380              1.12            1500     92.54  64.37\n",
            "32  33   16-150        553              0.78            1100     97.17  53.64\n",
            "33  34    16-32        750              0.90            1200     98.18  68.44\n",
            "34  35   24-270        380              0.78            1500     97.49  75.22>\n"
          ],
          "name": "stdout"
        }
      ]
    },
    {
      "cell_type": "code",
      "metadata": {
        "id": "t2m5xJhf7nCs"
      },
      "source": [
        "#Selecionando as colunas de interesse:\n",
        "Dat_Select=df.iloc[:,2:]"
      ],
      "execution_count": 89,
      "outputs": []
    },
    {
      "cell_type": "code",
      "metadata": {
        "colab": {
          "base_uri": "https://localhost:8080/",
          "height": 197
        },
        "id": "ArTM3YCbyIxk",
        "outputId": "b735e444-6847-48aa-ebc2-126c4999cb2d"
      },
      "source": [
        "Dat_Select.head (5)"
      ],
      "execution_count": 90,
      "outputs": [
        {
          "output_type": "execute_result",
          "data": {
            "text/html": [
              "<div>\n",
              "<style scoped>\n",
              "    .dataframe tbody tr th:only-of-type {\n",
              "        vertical-align: middle;\n",
              "    }\n",
              "\n",
              "    .dataframe tbody tr th {\n",
              "        vertical-align: top;\n",
              "    }\n",
              "\n",
              "    .dataframe thead th {\n",
              "        text-align: right;\n",
              "    }\n",
              "</style>\n",
              "<table border=\"1\" class=\"dataframe\">\n",
              "  <thead>\n",
              "    <tr style=\"text-align: right;\">\n",
              "      <th></th>\n",
              "      <th>Mean_size</th>\n",
              "      <th>Collector_dosage</th>\n",
              "      <th>Impeller_speed</th>\n",
              "      <th>Recovery</th>\n",
              "      <th>Grade</th>\n",
              "    </tr>\n",
              "  </thead>\n",
              "  <tbody>\n",
              "    <tr>\n",
              "      <th>0</th>\n",
              "      <td>750</td>\n",
              "      <td>0.90</td>\n",
              "      <td>1100</td>\n",
              "      <td>98.47</td>\n",
              "      <td>65.18</td>\n",
              "    </tr>\n",
              "    <tr>\n",
              "      <th>1</th>\n",
              "      <td>553</td>\n",
              "      <td>0.56</td>\n",
              "      <td>1200</td>\n",
              "      <td>92.71</td>\n",
              "      <td>65.36</td>\n",
              "    </tr>\n",
              "    <tr>\n",
              "      <th>2</th>\n",
              "      <td>79</td>\n",
              "      <td>0.67</td>\n",
              "      <td>1200</td>\n",
              "      <td>68.51</td>\n",
              "      <td>77.53</td>\n",
              "    </tr>\n",
              "    <tr>\n",
              "      <th>3</th>\n",
              "      <td>277</td>\n",
              "      <td>1.12</td>\n",
              "      <td>1200</td>\n",
              "      <td>93.90</td>\n",
              "      <td>52.68</td>\n",
              "    </tr>\n",
              "    <tr>\n",
              "      <th>4</th>\n",
              "      <td>380</td>\n",
              "      <td>0.90</td>\n",
              "      <td>1500</td>\n",
              "      <td>82.99</td>\n",
              "      <td>64.29</td>\n",
              "    </tr>\n",
              "  </tbody>\n",
              "</table>\n",
              "</div>"
            ],
            "text/plain": [
              "   Mean_size  Collector_dosage  Impeller_speed  Recovery  Grade\n",
              "0        750              0.90            1100     98.47  65.18\n",
              "1        553              0.56            1200     92.71  65.36\n",
              "2         79              0.67            1200     68.51  77.53\n",
              "3        277              1.12            1200     93.90  52.68\n",
              "4        380              0.90            1500     82.99  64.29"
            ]
          },
          "metadata": {
            "tags": []
          },
          "execution_count": 90
        }
      ]
    },
    {
      "cell_type": "code",
      "metadata": {
        "id": "PmcN4TJO3bK3",
        "colab": {
          "base_uri": "https://localhost:8080/"
        },
        "outputId": "2096700d-bff7-4460-8da8-b572fbaaa09a"
      },
      "source": [
        "# Separando o s  dados em normatizados e originais:\n",
        "Index=[0,1,2]\n",
        "X=Dat_Select.iloc[:,Index].copy()\n",
        "print(X)\n",
        "Y=Dat_Select.iloc[:,3:].copy()\n",
        "print(Y)"
      ],
      "execution_count": 91,
      "outputs": [
        {
          "output_type": "stream",
          "text": [
            "    Mean_size  Collector_dosage  Impeller_speed\n",
            "0         750              0.90            1100\n",
            "1         553              0.56            1200\n",
            "2          79              0.67            1200\n",
            "3         277              1.12            1200\n",
            "4         380              0.90            1500\n",
            "5         277              0.78            1200\n",
            "6         854              0.90            1200\n",
            "7         553              0.78            1500\n",
            "8         380              1.12            1100\n",
            "9         277              0.67            1200\n",
            "10        854              1.12            1200\n",
            "11        553              0.78            1200\n",
            "12        553              0.90            1200\n",
            "13        553              1.01            1200\n",
            "14        750              1.12            1200\n",
            "15        553              0.90            1100\n",
            "16        750              1.12            1100\n",
            "17        553              1.12            1100\n",
            "18        750              0.78            1500\n",
            "19        277              0.90            1200\n",
            "20        553              0.90            1500\n",
            "21        553              1.12            1500\n",
            "22        380              0.56            1200\n",
            "23        380              0.90            1200\n",
            "24        380              0.78            1200\n",
            "25        750              0.78            1200\n",
            "26        380              1.12            1200\n",
            "27        380              0.90            1100\n",
            "28        277              0.56            1200\n",
            "29        380              0.78            1100\n",
            "30        750              0.56            1200\n",
            "31        380              1.12            1500\n",
            "32        553              0.78            1100\n",
            "33        750              0.90            1200\n",
            "34        380              0.78            1500\n",
            "    Recovery  Grade\n",
            "0      98.47  65.18\n",
            "1      92.71  65.36\n",
            "2      68.51  77.53\n",
            "3      93.90  52.68\n",
            "4      82.99  64.29\n",
            "5      95.69  62.93\n",
            "6      94.19  76.38\n",
            "7      66.15  67.67\n",
            "8      97.68  56.07\n",
            "9      98.13  60.60\n",
            "10     97.71  76.91\n",
            "11     96.85  57.70\n",
            "12     97.56  52.85\n",
            "13     97.67  48.50\n",
            "14     98.84  64.43\n",
            "15     91.21  57.13\n",
            "16     96.98  63.12\n",
            "17     96.47  58.90\n",
            "18     95.48  68.50\n",
            "19     95.82  57.30\n",
            "20     89.74  58.27\n",
            "21     96.20  50.46\n",
            "22     78.44  72.64\n",
            "23     94.06  62.71\n",
            "24     97.68  57.17\n",
            "25     96.74  65.58\n",
            "26     95.27  56.41\n",
            "27     97.77  58.39\n",
            "28     93.27  63.94\n",
            "29     92.99  70.24\n",
            "30     94.55  73.83\n",
            "31     92.54  64.37\n",
            "32     97.17  53.64\n",
            "33     98.18  68.44\n",
            "34     97.49  75.22\n"
          ],
          "name": "stdout"
        }
      ]
    },
    {
      "cell_type": "code",
      "metadata": {
        "id": "p-4ZBfcinnIa"
      },
      "source": [
        "X_Train, X_Test, Y_Train, Y_Test = train_test_split(X,Y,test_size=0.20, shuffle=True, random_state=42)"
      ],
      "execution_count": 92,
      "outputs": []
    },
    {
      "cell_type": "code",
      "metadata": {
        "id": "ReO0r8HgoDZb"
      },
      "source": [
        "Scaler_X = preprocessing.MinMaxScaler((-1,1)).fit(X)\n",
        "Scaler_Y= preprocessing.MinMaxScaler((-1,1)).fit(Y)"
      ],
      "execution_count": 93,
      "outputs": []
    },
    {
      "cell_type": "code",
      "metadata": {
        "id": "3eJrsOvsoWKM"
      },
      "source": [
        "X_Train = Scaler_X.transform(X_Train)\n",
        "X_Test = Scaler_X.transform(X_Test)\n",
        "Y_Train = Scaler_Y.transform(Y_Train)\n",
        "Y_Test= Scaler_Y.transform(Y_Test)"
      ],
      "execution_count": 94,
      "outputs": []
    },
    {
      "cell_type": "code",
      "metadata": {
        "id": "idB52GbWHGwf"
      },
      "source": [
        "#Definindo a Rede Neural \n",
        "model = MLPRegressor(solver='lbfgs',activation='tanh',alpha=1e-5,max_iter=2000,\n",
        "                     hidden_layer_sizes=(12,12),random_state=6)"
      ],
      "execution_count": 95,
      "outputs": []
    },
    {
      "cell_type": "code",
      "metadata": {
        "id": "1k-E0x-bHejo",
        "colab": {
          "base_uri": "https://localhost:8080/"
        },
        "outputId": "d262dd6d-92b7-4b91-92e6-e65b7882095d"
      },
      "source": [
        "#Treinando a Rede Neural\n",
        "model.fit(X_Train, Y_Train)"
      ],
      "execution_count": 96,
      "outputs": [
        {
          "output_type": "execute_result",
          "data": {
            "text/plain": [
              "MLPRegressor(activation='tanh', alpha=1e-05, batch_size='auto', beta_1=0.9,\n",
              "             beta_2=0.999, early_stopping=False, epsilon=1e-08,\n",
              "             hidden_layer_sizes=(12, 12), learning_rate='constant',\n",
              "             learning_rate_init=0.001, max_fun=15000, max_iter=2000,\n",
              "             momentum=0.9, n_iter_no_change=10, nesterovs_momentum=True,\n",
              "             power_t=0.5, random_state=6, shuffle=True, solver='lbfgs',\n",
              "             tol=0.0001, validation_fraction=0.1, verbose=False,\n",
              "             warm_start=False)"
            ]
          },
          "metadata": {
            "tags": []
          },
          "execution_count": 96
        }
      ]
    },
    {
      "cell_type": "code",
      "metadata": {
        "id": "Ivzn7KEDS12o"
      },
      "source": [
        "# Usando a rede neural treina em calculos para treino e teste\n",
        "Y_Calc_Train=model.predict(X_Train)\n",
        "Y_Calc_Test=model.predict(X_Test)"
      ],
      "execution_count": 97,
      "outputs": []
    },
    {
      "cell_type": "code",
      "metadata": {
        "colab": {
          "base_uri": "https://localhost:8080/"
        },
        "id": "GY_ntrh6zYyc",
        "outputId": "9abba954-7a4b-4c52-d35c-816b016b5758"
      },
      "source": [
        "Y_Calc_Train"
      ],
      "execution_count": 98,
      "outputs": [
        {
          "output_type": "execute_result",
          "data": {
            "text/plain": [
              "array([[ 0.92023417, -0.70065875],\n",
              "       [ 0.92640846, -0.47901832],\n",
              "       [ 0.88601723,  0.00770333],\n",
              "       [ 0.96282665, -0.16561122],\n",
              "       [ 0.96282529,  0.37157985],\n",
              "       [ 0.97318084,  0.15232202],\n",
              "       [ 0.02956062,  0.0881119 ],\n",
              "       [ 0.85684039, -0.28361347],\n",
              "       [ 0.93369898, -0.31821488],\n",
              "       [ 0.79990721, -0.00895634],\n",
              "       [ 0.87806235, -0.3648611 ],\n",
              "       [ 0.6234257 ,  0.16037391],\n",
              "       [-0.8556696 ,  0.99943896],\n",
              "       [ 0.89990569, -0.64745069],\n",
              "       [ 0.69859946, -0.71188213],\n",
              "       [ 0.73848742,  0.74552705],\n",
              "       [ 0.71128282, -0.0197818 ],\n",
              "       [ 0.61545429,  0.09342321],\n",
              "       [ 0.93268842,  0.95756974],\n",
              "       [-0.24639344,  0.66434495],\n",
              "       [ 0.7938373 ,  0.37876636],\n",
              "       [ 0.87075558,  0.17650872],\n",
              "       [ 0.7139571 ,  0.92061918],\n",
              "       [ 0.44326072, -0.32744572],\n",
              "       [ 0.91721685,  0.84197503],\n",
              "       [-1.0000941 ,  0.32031035],\n",
              "       [ 0.99981225,  0.09640649],\n",
              "       [ 0.65691314,  0.0637945 ]])"
            ]
          },
          "metadata": {
            "tags": []
          },
          "execution_count": 98
        }
      ]
    },
    {
      "cell_type": "code",
      "metadata": {
        "colab": {
          "base_uri": "https://localhost:8080/"
        },
        "id": "498msmUrzd5y",
        "outputId": "429e49ba-c907-470b-f41c-78de28de3252"
      },
      "source": [
        "Y_Calc_Test"
      ],
      "execution_count": 99,
      "outputs": [
        {
          "output_type": "execute_result",
          "data": {
            "text/plain": [
              "array([[ 0.64675269, -0.33572278],\n",
              "       [ 0.88284667, -0.60606805],\n",
              "       [ 0.73491993,  0.02194576],\n",
              "       [ 0.67467501, -0.07543831],\n",
              "       [ 1.04909465, -1.05722458],\n",
              "       [ 1.05397331, -0.73876625],\n",
              "       [ 0.78605561, -0.3038886 ]])"
            ]
          },
          "metadata": {
            "tags": []
          },
          "execution_count": 99
        }
      ]
    },
    {
      "cell_type": "code",
      "metadata": {
        "id": "HJS4EDLAS4wH"
      },
      "source": [
        "#Transformando a saida da rede na forma original\n",
        "Y_Obs_Train=Scaler_Y.inverse_transform(np.array(Y_Train).reshape(-1,2))\n",
        "Y_Obs_Test=Scaler_Y.inverse_transform(np.array(Y_Test).reshape(-1,2))\n",
        "Y_Calc_Train=Scaler_Y.inverse_transform(Y_Calc_Train.reshape(-1,2))\n",
        "Y_Calc_Test=Scaler_Y.inverse_transform(Y_Calc_Test.reshape(-1,2))"
      ],
      "execution_count": 100,
      "outputs": []
    },
    {
      "cell_type": "code",
      "metadata": {
        "id": "eBVP0Vw3TfcM",
        "colab": {
          "base_uri": "https://localhost:8080/",
          "height": 283
        },
        "outputId": "6fa9d114-4ba2-463c-91ff-ed99aa57f283"
      },
      "source": [
        "# Expressando os dois dados em figura\n",
        "fig = plt.figure()\n",
        "ax1 = fig.add_subplot(111)\n",
        "ax1.scatter(Y_Obs_Test, Y_Calc_Test, s=10, c='b', marker=\"s\", label='Teste')\n",
        "ax1.scatter(Y_Obs_Train, Y_Calc_Train, s=10, c='r', marker=\"o\", label='Traino')\n",
        "plt.legend(loc='upper left')\n",
        "plt.xlim([0,100])\n",
        "plt.ylim([0,100])\n",
        "plt.ylabel('Calc')\n",
        "plt.xlabel('Obs')\n",
        "plt.show()"
      ],
      "execution_count": 101,
      "outputs": [
        {
          "output_type": "display_data",
          "data": {
            "image/png": "[encoded data removed]",
            "text/plain": [
              "<Figure size 432x288 with 1 Axes>"
            ]
          },
          "metadata": {
            "tags": [],
            "needs_background": "light"
          }
        }
      ]
    },
    {
      "cell_type": "code",
      "metadata": {
        "id": "r3joMJaaTlH1",
        "colab": {
          "base_uri": "https://localhost:8080/"
        },
        "outputId": "90bad5cb-940a-4b7e-d3fd-5218b9f7c8ab"
      },
      "source": [
        "MSE_Test=mean_squared_error(Y_Obs_Test,Y_Calc_Test)\n",
        "print(\"MSE Teste=\",MSE_Test)\n",
        "R2_Test=r2_score(Y_Obs_Test,Y_Calc_Test)\n",
        "print(\"R^2 Teste=\",R2_Test)"
      ],
      "execution_count": 102,
      "outputs": [
        {
          "output_type": "stream",
          "text": [
            "MSE Teste= 54.11854927316474\n",
            "R^2 Teste= -2.0886049902024393\n"
          ],
          "name": "stdout"
        }
      ]
    },
    {
      "cell_type": "code",
      "metadata": {
        "id": "bBCdfifHTqQd",
        "colab": {
          "base_uri": "https://localhost:8080/"
        },
        "outputId": "7c81ac88-ef09-4b21-bf33-78bc816855b2"
      },
      "source": [
        "MSE_Train=mean_squared_error(Y_Obs_Train,Y_Calc_Train)\n",
        "print(\"MSE Treino=\",MSE_Train)\n",
        "R2_Train=r2_score(Y_Obs_Train,Y_Calc_Train)\n",
        "print(\"R^2 Treino=\",R2_Train)"
      ],
      "execution_count": 103,
      "outputs": [
        {
          "output_type": "stream",
          "text": [
            "MSE Treino= 0.0009711482730272763\n",
            "R^2 Treino= 0.9999853353253487\n"
          ],
          "name": "stdout"
        }
      ]
    },
    {
      "cell_type": "code",
      "metadata": {
        "id": "NMISDLAbjz9L",
        "colab": {
          "base_uri": "https://localhost:8080/",
          "height": 53
        },
        "outputId": "ae985b88-21db-4efa-f788-b6a16a9fcb4a"
      },
      "source": [
        "'''# Escolhendo uma das resposta para fazer o gráfico (Teino - Grade)\n",
        "Obs_Train_Grade=[]\n",
        "Calc_Train_Grade=[]\n",
        "Calc_Train_Grade=y_Calc_Train['Grade'].copy()\n",
        "Obs_Train_Grade=Train['Grade'].copy()'''"
      ],
      "execution_count": 104,
      "outputs": [
        {
          "output_type": "execute_result",
          "data": {
            "application/vnd.google.colaboratory.intrinsic+json": {
              "type": "string"
            },
            "text/plain": [
              "\"# Escolhendo uma das resposta para fazer o gráfico (Teino - Grade)\\nObs_Train_Grade=[]\\nCalc_Train_Grade=[]\\nCalc_Train_Grade=y_Calc_Train['Grade'].copy()\\nObs_Train_Grade=Train['Grade'].copy()\""
            ]
          },
          "metadata": {
            "tags": []
          },
          "execution_count": 104
        }
      ]
    },
    {
      "cell_type": "code",
      "metadata": {
        "id": "WgIMBpPYniVs",
        "colab": {
          "base_uri": "https://localhost:8080/",
          "height": 53
        },
        "outputId": "fa945397-ed6a-4e34-cb41-2047ba48ea11"
      },
      "source": [
        "'''# Escolhendo uma das resposta para fazer o grafico (Teste- Recovery)\n",
        "Obs_Test_Grade=[]\n",
        "Calc_Test_Grade=[]\n",
        "Calc_Test_Grade=y_Calc_Test['Grade'].copy()\n",
        "Obs_Test_Grade=Test['Grade'].copy()'''"
      ],
      "execution_count": 105,
      "outputs": [
        {
          "output_type": "execute_result",
          "data": {
            "application/vnd.google.colaboratory.intrinsic+json": {
              "type": "string"
            },
            "text/plain": [
              "\"# Escolhendo uma das resposta para fazer o grafico (Teste- Recovery)\\nObs_Test_Grade=[]\\nCalc_Test_Grade=[]\\nCalc_Test_Grade=y_Calc_Test['Grade'].copy()\\nObs_Test_Grade=Test['Grade'].copy()\""
            ]
          },
          "metadata": {
            "tags": []
          },
          "execution_count": 105
        }
      ]
    },
    {
      "cell_type": "code",
      "metadata": {
        "id": "nduwrryJn5MH",
        "colab": {
          "base_uri": "https://localhost:8080/",
          "height": 71
        },
        "outputId": "fd471a39-eddc-49cb-f04f-4d2a0aff49de"
      },
      "source": [
        "'''# Expressando os dois dados em figura (Grade)\n",
        "fig = plt.figure()\n",
        "ax1 = fig.add_subplot(111)\n",
        "\n",
        "ax1.scatter(Obs_Test_Grade,Calc_Test_Grade, s=10, c='b', marker=\"s\", label='Teste')\n",
        "ax1.scatter(Obs_Train_Grade,Calc_Train_Grade, s=10, c='r', marker=\"o\", label='Treino')\n",
        "plt.legend(loc='upper left')\n",
        "plt.ylabel('Grade Calc')\n",
        "plt.xlabel('Grade Obs')\n",
        "plt.show()'''"
      ],
      "execution_count": 106,
      "outputs": [
        {
          "output_type": "execute_result",
          "data": {
            "application/vnd.google.colaboratory.intrinsic+json": {
              "type": "string"
            },
            "text/plain": [
              "'# Expressando os dois dados em figura (Grade)\\nfig = plt.figure()\\nax1 = fig.add_subplot(111)\\n\\nax1.scatter(Obs_Test_Grade,Calc_Test_Grade, s=10, c=\\'b\\', marker=\"s\", label=\\'Teste\\')\\nax1.scatter(Obs_Train_Grade,Calc_Train_Grade, s=10, c=\\'r\\', marker=\"o\", label=\\'Treino\\')\\nplt.legend(loc=\\'upper left\\')\\nplt.ylabel(\\'Grade Calc\\')\\nplt.xlabel(\\'Grade Obs\\')\\nplt.show()'"
            ]
          },
          "metadata": {
            "tags": []
          },
          "execution_count": 106
        }
      ]
    },
    {
      "cell_type": "code",
      "metadata": {
        "id": "hbHEi62tpNPk",
        "colab": {
          "base_uri": "https://localhost:8080/",
          "height": 53
        },
        "outputId": "04124976-33ed-424f-d64b-edf661ff796a"
      },
      "source": [
        "'''MSE_Grade_Test=mean_squared_error(Obs_Test_Grade,Calc_Test_Grade)\n",
        "print(\"MSE Grade Teste=\",MSE_Grade_Test)\n",
        "R2_Grade_Test=r2_score(Obs_Test_Grade,Calc_Test_Grade)\n",
        "print(\"R^2 Grade Teste=\",R2_Grade_Test)'''"
      ],
      "execution_count": 107,
      "outputs": [
        {
          "output_type": "execute_result",
          "data": {
            "application/vnd.google.colaboratory.intrinsic+json": {
              "type": "string"
            },
            "text/plain": [
              "'MSE_Grade_Test=mean_squared_error(Obs_Test_Grade,Calc_Test_Grade)\\nprint(\"MSE Grade Teste=\",MSE_Grade_Test)\\nR2_Grade_Test=r2_score(Obs_Test_Grade,Calc_Test_Grade)\\nprint(\"R^2 Grade Teste=\",R2_Grade_Test)'"
            ]
          },
          "metadata": {
            "tags": []
          },
          "execution_count": 107
        }
      ]
    },
    {
      "cell_type": "code",
      "metadata": {
        "id": "VwEpsBObpuX1",
        "colab": {
          "base_uri": "https://localhost:8080/",
          "height": 53
        },
        "outputId": "5e2fb99e-5162-4440-d306-9c6fc0a7d346"
      },
      "source": [
        "'''MSE_Grade_Train=mean_squared_error(Obs_Train_Grade,Calc_Train_Grade)\n",
        "print(\"MSE Grade Treino=\",MSE_Grade_Train)\n",
        "R2_Grade_Train=r2_score(Obs_Train_Grade,Calc_Train_Grade)\n",
        "print(\"R^2 Grade Treino=\",R2_Grade_Train)'''"
      ],
      "execution_count": 108,
      "outputs": [
        {
          "output_type": "execute_result",
          "data": {
            "application/vnd.google.colaboratory.intrinsic+json": {
              "type": "string"
            },
            "text/plain": [
              "'MSE_Grade_Train=mean_squared_error(Obs_Train_Grade,Calc_Train_Grade)\\nprint(\"MSE Grade Treino=\",MSE_Grade_Train)\\nR2_Grade_Train=r2_score(Obs_Train_Grade,Calc_Train_Grade)\\nprint(\"R^2 Grade Treino=\",R2_Grade_Train)'"
            ]
          },
          "metadata": {
            "tags": []
          },
          "execution_count": 108
        }
      ]
    }
  ]
}