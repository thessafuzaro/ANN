{
  "nbformat": 4,
  "nbformat_minor": 0,
  "metadata": {
    "colab": {
      "name": "Projeto_Thessa_versao_3.ipynb",
      "provenance": [],
      "authorship_tag": "ABX9TyN5Sw9JMKsx39MaqSfvQtWE",
      "include_colab_link": true
    },
    "kernelspec": {
      "name": "python3",
      "display_name": "Python 3"
    },
    "language_info": {
      "name": "python"
    }
  },
  "cells": [
    {
      "cell_type": "markdown",
      "metadata": {
        "id": "view-in-github",
        "colab_type": "text"
      },
      "source": [
        "<a href=\"https://colab.research.google.com/github/thessafuzaro/ANN/blob/main/Projeto_Thessa_versao_3.ipynb\" target=\"_parent\"><img src=\"https://colab.research.google.com/assets/colab-badge.svg\" alt=\"Open In Colab\"/></a>"
      ]
    },
    {
      "cell_type": "code",
      "metadata": {
        "id": "RvbXkT6Niq-l",
        "colab": {
          "base_uri": "https://localhost:8080/",
          "height": 52
        },
        "outputId": "6900de9f-aa8b-400b-d0e5-979bfb553ccb"
      },
      "source": [
        "'''Primeiro projeto de redes neurais\n",
        "Aluna: Thessa Fuzaro Mendes\n",
        "Artigo: On the optimiation of froth flotation by the use of an artificial neural network [Al-Thyabat S]\n",
        "Data: 11/05/2021'''"
      ],
      "execution_count": null,
      "outputs": [
        {
          "output_type": "execute_result",
          "data": {
            "application/vnd.google.colaboratory.intrinsic+json": {
              "type": "string"
            },
            "text/plain": [
              "'Primeiro projeto de redes neurais\\nAluna: Thessa Fuzaro Mendes\\nArtigo: On the optimiation of froth flotation by the use of an artificial neural network [Al-Thyabat S]\\nData: 11/05/2021'"
            ]
          },
          "metadata": {
            "tags": []
          },
          "execution_count": 154
        }
      ]
    },
    {
      "cell_type": "code",
      "metadata": {
        "id": "R6aspZiHeEv0"
      },
      "source": [
        "#Bibliotecas necessárias\n",
        "import os\n",
        "import numpy as np   # biblioteca númerica do python\n",
        "import pandas as pd \n",
        "import matplotlib.pyplot as plt\n",
        "from sklearn.neural_network import MLPRegressor\n",
        "from sklearn.model_selection import train_test_split\n",
        "from sklearn.metrics import mean_squared_error\n",
        "from sklearn import preprocessing\n",
        "from sklearn.metrics import r2_score "
      ],
      "execution_count": null,
      "outputs": []
    },
    {
      "cell_type": "code",
      "metadata": {
        "id": "ST4bAw0QxSum"
      },
      "source": [
        "# para gerar o grafico no browser\n",
        "%matplotlib inline"
      ],
      "execution_count": null,
      "outputs": []
    },
    {
      "cell_type": "code",
      "metadata": {
        "id": "PIY4zsixyqHX",
        "colab": {
          "base_uri": "https://localhost:8080/"
        },
        "outputId": "6e3e1b47-d177-4b8c-cb00-8d6029c5fbcd"
      },
      "source": [
        "!git clone https://github.com/thessafuzaro/ANN\n",
        "%cd ANN"
      ],
      "execution_count": null,
      "outputs": [
        {
          "output_type": "stream",
          "text": [
            "Cloning into 'ANN'...\n",
            "remote: Enumerating objects: 74, done.\u001b[K\n",
            "remote: Counting objects: 100% (74/74), done.\u001b[K\n",
            "remote: Compressing objects: 100% (72/72), done.\u001b[K\n",
            "remote: Total 74 (delta 42), reused 0 (delta 0), pack-reused 0\u001b[K\n",
            "Unpacking objects: 100% (74/74), done.\n",
            "/content/ANN/ANN/ANN/ANN/ANN/ANN/ANN/ANN/ANN/ANN/ANN/ANN\n"
          ],
          "name": "stdout"
        }
      ]
    },
    {
      "cell_type": "code",
      "metadata": {
        "colab": {
          "base_uri": "https://localhost:8080/"
        },
        "id": "E1nKBzh2y2uW",
        "outputId": "efbca710-683b-4974-bb96-fca6687c33f1"
      },
      "source": [
        "# leitura dos dados\n",
        "df=pd.read_csv(\"Dados_artigo_redes_neurais_atualizados.csv\", delimiter=';')   # pelo pandas (pd) lê o arquivo no formato csv - arquivo de dados como o excel\n",
        "print (df.head)"
      ],
      "execution_count": null,
      "outputs": [
        {
          "output_type": "stream",
          "text": [
            "<bound method NDFrame.head of     No   Range   Mean size   Collector dosage  Impeller speed   Recovery  Grade\n",
            "0    1    16-32         750              0.90             1200     98.18  68.44\n",
            "1    2   16-150         553              0.56             1200     92.71  65.36\n",
            "2    3    16-32         750              0.78             1200     96.74  65.58\n",
            "3    4   32-270         277              0.56             1200     93.27  63.94\n",
            "4    5    16-32         750              0.56             1200     94.55  73.83\n",
            "5    6   32-270         277              0.78             1200     95.69  62.93\n",
            "6    7    16-24         854              0.90             1200     94.19  76.38\n",
            "7    8   32-270         277              0.90             1200     95.82  57.30\n",
            "8    9   32-270         277              1.12             1200     93.90  52.68\n",
            "9   10   32-270         277              0.67             1200     98.13  60.60\n",
            "10  11    16-24         854              1.12             1200     97.71  76.91\n",
            "11  12   16-150         553              0.78             1200     96.85  57.70\n",
            "12  13   16-150         553              0.90             1200     97.56  52.85\n",
            "13  14   16-150         553              1.01             1200     97.67  48.50\n",
            "14  15    16-32         750              1.12             1200     98.84  64.43\n",
            "15  16   16-150         553              0.90             1100     91.21  57.13\n",
            "16  17    16-32         750              1.12             1100     96.98  63.12\n",
            "17  18   16-150         553              1.12             1100     96.47  58.90\n",
            "18  19    16-32         750              0.78             1500     95.48  68.50\n",
            "19  20   16-150         553              0.78             1500     66.15  67.67\n",
            "20  21   16-150         553              0.90             1500     89.74  58.27\n",
            "21  22   16-150         553              1.12             1500     96.20  50.46\n",
            "22  23   24-270         380              0.56             1200     78.44  72.64\n",
            "23  24   24-270         380              0.90             1200     94.06  62.71\n",
            "24  25   24-270         380              0.78             1200     97.68  57.17\n",
            "25  26  150-270          79              0.67             1200     68.51  77.53\n",
            "26  27   24-270         380              1.12             1200     95.27  56.41\n",
            "27  28   24-270         380              0.90             1100     97.77  58.39\n",
            "28  29   24-270         380              1.12             1100     97.68  56.07\n",
            "29  30   24-270         380              0.78             1100     92.99  70.24\n",
            "30  31   24-270         380              0.90             1500     82.99  64.29\n",
            "31  32   24-270         380              1.12             1500     92.54  64.37\n",
            "32  33   16-150         553              0.78             1100     97.17  53.64\n",
            "33  34    16-32         750              0.90             1100     98.47  65.18\n",
            "34  35   24-270         380              0.78             1500     97.49  75.22>\n"
          ],
          "name": "stdout"
        }
      ]
    },
    {
      "cell_type": "code",
      "metadata": {
        "id": "t2m5xJhf7nCs"
      },
      "source": [
        "#Selecionando as colunas de interesse:\n",
        "Dat_Select=df.iloc[:,2:]"
      ],
      "execution_count": null,
      "outputs": []
    },
    {
      "cell_type": "code",
      "metadata": {
        "colab": {
          "base_uri": "https://localhost:8080/",
          "height": 204
        },
        "id": "ArTM3YCbyIxk",
        "outputId": "7113721c-bfe8-4365-a37a-3c7a69d22072"
      },
      "source": [
        "Dat_Select.head (5)"
      ],
      "execution_count": null,
      "outputs": [
        {
          "output_type": "execute_result",
          "data": {
            "text/html": [
              "<div>\n",
              "<style scoped>\n",
              "    .dataframe tbody tr th:only-of-type {\n",
              "        vertical-align: middle;\n",
              "    }\n",
              "\n",
              "    .dataframe tbody tr th {\n",
              "        vertical-align: top;\n",
              "    }\n",
              "\n",
              "    .dataframe thead th {\n",
              "        text-align: right;\n",
              "    }\n",
              "</style>\n",
              "<table border=\"1\" class=\"dataframe\">\n",
              "  <thead>\n",
              "    <tr style=\"text-align: right;\">\n",
              "      <th></th>\n",
              "      <th>Mean size</th>\n",
              "      <th>Collector dosage</th>\n",
              "      <th>Impeller speed</th>\n",
              "      <th>Recovery</th>\n",
              "      <th>Grade</th>\n",
              "    </tr>\n",
              "  </thead>\n",
              "  <tbody>\n",
              "    <tr>\n",
              "      <th>0</th>\n",
              "      <td>750</td>\n",
              "      <td>0.90</td>\n",
              "      <td>1200</td>\n",
              "      <td>98.18</td>\n",
              "      <td>68.44</td>\n",
              "    </tr>\n",
              "    <tr>\n",
              "      <th>1</th>\n",
              "      <td>553</td>\n",
              "      <td>0.56</td>\n",
              "      <td>1200</td>\n",
              "      <td>92.71</td>\n",
              "      <td>65.36</td>\n",
              "    </tr>\n",
              "    <tr>\n",
              "      <th>2</th>\n",
              "      <td>750</td>\n",
              "      <td>0.78</td>\n",
              "      <td>1200</td>\n",
              "      <td>96.74</td>\n",
              "      <td>65.58</td>\n",
              "    </tr>\n",
              "    <tr>\n",
              "      <th>3</th>\n",
              "      <td>277</td>\n",
              "      <td>0.56</td>\n",
              "      <td>1200</td>\n",
              "      <td>93.27</td>\n",
              "      <td>63.94</td>\n",
              "    </tr>\n",
              "    <tr>\n",
              "      <th>4</th>\n",
              "      <td>750</td>\n",
              "      <td>0.56</td>\n",
              "      <td>1200</td>\n",
              "      <td>94.55</td>\n",
              "      <td>73.83</td>\n",
              "    </tr>\n",
              "  </tbody>\n",
              "</table>\n",
              "</div>"
            ],
            "text/plain": [
              "   Mean size   Collector dosage  Impeller speed   Recovery  Grade\n",
              "0         750              0.90             1200     98.18  68.44\n",
              "1         553              0.56             1200     92.71  65.36\n",
              "2         750              0.78             1200     96.74  65.58\n",
              "3         277              0.56             1200     93.27  63.94\n",
              "4         750              0.56             1200     94.55  73.83"
            ]
          },
          "metadata": {
            "tags": []
          },
          "execution_count": 160
        }
      ]
    },
    {
      "cell_type": "code",
      "metadata": {
        "id": "PmcN4TJO3bK3",
        "colab": {
          "base_uri": "https://localhost:8080/"
        },
        "outputId": "abb31df0-f6d3-4e0f-81c7-dc3a0006d255"
      },
      "source": [
        "# Separando o s  dados em normatizados e originais:\n",
        "Index=[0,1,2]\n",
        "X=Dat_Select.iloc[:,Index].copy()\n",
        "print(X)\n",
        "Y=Dat_Select.iloc[:,3:].copy()\n",
        "print(Y)"
      ],
      "execution_count": null,
      "outputs": [
        {
          "output_type": "stream",
          "text": [
            "    Mean size   Collector dosage  Impeller speed \n",
            "0          750              0.90             1200\n",
            "1          553              0.56             1200\n",
            "2          750              0.78             1200\n",
            "3          277              0.56             1200\n",
            "4          750              0.56             1200\n",
            "5          277              0.78             1200\n",
            "6          854              0.90             1200\n",
            "7          277              0.90             1200\n",
            "8          277              1.12             1200\n",
            "9          277              0.67             1200\n",
            "10         854              1.12             1200\n",
            "11         553              0.78             1200\n",
            "12         553              0.90             1200\n",
            "13         553              1.01             1200\n",
            "14         750              1.12             1200\n",
            "15         553              0.90             1100\n",
            "16         750              1.12             1100\n",
            "17         553              1.12             1100\n",
            "18         750              0.78             1500\n",
            "19         553              0.78             1500\n",
            "20         553              0.90             1500\n",
            "21         553              1.12             1500\n",
            "22         380              0.56             1200\n",
            "23         380              0.90             1200\n",
            "24         380              0.78             1200\n",
            "25          79              0.67             1200\n",
            "26         380              1.12             1200\n",
            "27         380              0.90             1100\n",
            "28         380              1.12             1100\n",
            "29         380              0.78             1100\n",
            "30         380              0.90             1500\n",
            "31         380              1.12             1500\n",
            "32         553              0.78             1100\n",
            "33         750              0.90             1100\n",
            "34         380              0.78             1500\n",
            "    Recovery  Grade\n",
            "0      98.18  68.44\n",
            "1      92.71  65.36\n",
            "2      96.74  65.58\n",
            "3      93.27  63.94\n",
            "4      94.55  73.83\n",
            "5      95.69  62.93\n",
            "6      94.19  76.38\n",
            "7      95.82  57.30\n",
            "8      93.90  52.68\n",
            "9      98.13  60.60\n",
            "10     97.71  76.91\n",
            "11     96.85  57.70\n",
            "12     97.56  52.85\n",
            "13     97.67  48.50\n",
            "14     98.84  64.43\n",
            "15     91.21  57.13\n",
            "16     96.98  63.12\n",
            "17     96.47  58.90\n",
            "18     95.48  68.50\n",
            "19     66.15  67.67\n",
            "20     89.74  58.27\n",
            "21     96.20  50.46\n",
            "22     78.44  72.64\n",
            "23     94.06  62.71\n",
            "24     97.68  57.17\n",
            "25     68.51  77.53\n",
            "26     95.27  56.41\n",
            "27     97.77  58.39\n",
            "28     97.68  56.07\n",
            "29     92.99  70.24\n",
            "30     82.99  64.29\n",
            "31     92.54  64.37\n",
            "32     97.17  53.64\n",
            "33     98.47  65.18\n",
            "34     97.49  75.22\n"
          ],
          "name": "stdout"
        }
      ]
    },
    {
      "cell_type": "code",
      "metadata": {
        "id": "p-4ZBfcinnIa"
      },
      "source": [
        "X_Train, X_Test, Y_Train, Y_Test = train_test_split(X,Y,test_size=0.20, shuffle=True, random_state=42)"
      ],
      "execution_count": null,
      "outputs": []
    },
    {
      "cell_type": "code",
      "metadata": {
        "id": "ReO0r8HgoDZb"
      },
      "source": [
        "Scaler_X = preprocessing.MinMaxScaler((-1,1)).fit(X)\n",
        "Scaler_Y= preprocessing.MinMaxScaler((-1,1)).fit(Y)"
      ],
      "execution_count": null,
      "outputs": []
    },
    {
      "cell_type": "code",
      "metadata": {
        "id": "3eJrsOvsoWKM"
      },
      "source": [
        "X_Train = Scaler_X.transform(X_Train)\n",
        "X_Test = Scaler_X.transform(X_Test)\n",
        "Y_Train = Scaler_Y.transform(Y_Train)\n",
        "Y_Test= Scaler_Y.transform(Y_Test)"
      ],
      "execution_count": null,
      "outputs": []
    },
    {
      "cell_type": "code",
      "metadata": {
        "id": "idB52GbWHGwf"
      },
      "source": [
        "#Definindo a Rede Neural \n",
        "model = MLPRegressor(solver='lbfgs',activation='tanh',alpha=1e-5,max_iter=2000,\n",
        "                     hidden_layer_sizes=(12,12,12),random_state=6)"
      ],
      "execution_count": null,
      "outputs": []
    },
    {
      "cell_type": "code",
      "metadata": {
        "id": "1k-E0x-bHejo",
        "colab": {
          "base_uri": "https://localhost:8080/"
        },
        "outputId": "cf7b9d09-b774-4ade-e5b1-8049f414ca58"
      },
      "source": [
        "#Treinando a Rede Neural\n",
        "model.fit(X_Train, Y_Train)"
      ],
      "execution_count": null,
      "outputs": [
        {
          "output_type": "execute_result",
          "data": {
            "text/plain": [
              "MLPRegressor(activation='tanh', alpha=1e-05, batch_size='auto', beta_1=0.9,\n",
              "             beta_2=0.999, early_stopping=False, epsilon=1e-08,\n",
              "             hidden_layer_sizes=(12, 12, 12), learning_rate='constant',\n",
              "             learning_rate_init=0.001, max_fun=15000, max_iter=2000,\n",
              "             momentum=0.9, n_iter_no_change=10, nesterovs_momentum=True,\n",
              "             power_t=0.5, random_state=6, shuffle=True, solver='lbfgs',\n",
              "             tol=0.0001, validation_fraction=0.1, verbose=False,\n",
              "             warm_start=False)"
            ]
          },
          "metadata": {
            "tags": []
          },
          "execution_count": 166
        }
      ]
    },
    {
      "cell_type": "code",
      "metadata": {
        "id": "Ivzn7KEDS12o"
      },
      "source": [
        "# Usando a rede neural treina em calculos para treino e teste\n",
        "Y_Calc_Train=model.predict(X_Train)\n",
        "Y_Calc_Test=model.predict(X_Test)"
      ],
      "execution_count": null,
      "outputs": []
    },
    {
      "cell_type": "code",
      "metadata": {
        "id": "HJS4EDLAS4wH",
        "colab": {
          "base_uri": "https://localhost:8080/",
          "height": 350
        },
        "outputId": "a13091a4-25b7-42aa-a427-cb3cd8362842"
      },
      "source": [
        "#Transformando a saida da rede na forma original\n",
        "Y_Obs_Train=Scaler_Y.inverse_transform(np.array(Y_Train).reshape(-1,1))\n",
        "Y_Obs_Test=Scaler_Y.inverse_transform(np.array(Y_Test).reshape(-1,1))\n",
        "Y_Calc_Train=Scaler_Y.inverse_transform(Y_Calc_Train.reshape(-1,1))\n",
        "Y_Calc_Test=Scaler_Y.inverse_transform(Y_Calc_Test.reshape(-1,1))"
      ],
      "execution_count": null,
      "outputs": [
        {
          "output_type": "error",
          "ename": "ValueError",
          "evalue": "ignored",
          "traceback": [
            "\u001b[0;31m---------------------------------------------------------------------------\u001b[0m",
            "\u001b[0;31mValueError\u001b[0m                                Traceback (most recent call last)",
            "\u001b[0;32m<ipython-input-168-6b968f940871>\u001b[0m in \u001b[0;36m<module>\u001b[0;34m()\u001b[0m\n\u001b[1;32m      1\u001b[0m \u001b[0;31m#Transformando a saida da rede na forma original\u001b[0m\u001b[0;34m\u001b[0m\u001b[0;34m\u001b[0m\u001b[0;34m\u001b[0m\u001b[0m\n\u001b[0;32m----> 2\u001b[0;31m \u001b[0mY_Obs_Train\u001b[0m\u001b[0;34m=\u001b[0m\u001b[0mScaler_Y\u001b[0m\u001b[0;34m.\u001b[0m\u001b[0minverse_transform\u001b[0m\u001b[0;34m(\u001b[0m\u001b[0mnp\u001b[0m\u001b[0;34m.\u001b[0m\u001b[0marray\u001b[0m\u001b[0;34m(\u001b[0m\u001b[0mY_Train\u001b[0m\u001b[0;34m)\u001b[0m\u001b[0;34m.\u001b[0m\u001b[0mreshape\u001b[0m\u001b[0;34m(\u001b[0m\u001b[0;34m-\u001b[0m\u001b[0;36m1\u001b[0m\u001b[0;34m,\u001b[0m\u001b[0;36m1\u001b[0m\u001b[0;34m)\u001b[0m\u001b[0;34m)\u001b[0m\u001b[0;34m\u001b[0m\u001b[0;34m\u001b[0m\u001b[0m\n\u001b[0m\u001b[1;32m      3\u001b[0m \u001b[0mY_Obs_Test\u001b[0m\u001b[0;34m=\u001b[0m\u001b[0mScaler_Y\u001b[0m\u001b[0;34m.\u001b[0m\u001b[0minverse_transform\u001b[0m\u001b[0;34m(\u001b[0m\u001b[0mnp\u001b[0m\u001b[0;34m.\u001b[0m\u001b[0marray\u001b[0m\u001b[0;34m(\u001b[0m\u001b[0mY_Test\u001b[0m\u001b[0;34m)\u001b[0m\u001b[0;34m.\u001b[0m\u001b[0mreshape\u001b[0m\u001b[0;34m(\u001b[0m\u001b[0;34m-\u001b[0m\u001b[0;36m1\u001b[0m\u001b[0;34m,\u001b[0m\u001b[0;36m1\u001b[0m\u001b[0;34m)\u001b[0m\u001b[0;34m)\u001b[0m\u001b[0;34m\u001b[0m\u001b[0;34m\u001b[0m\u001b[0m\n\u001b[1;32m      4\u001b[0m \u001b[0mY_Calc_Train\u001b[0m\u001b[0;34m=\u001b[0m\u001b[0mScaler_Y\u001b[0m\u001b[0;34m.\u001b[0m\u001b[0minverse_transform\u001b[0m\u001b[0;34m(\u001b[0m\u001b[0mY_Calc_Train\u001b[0m\u001b[0;34m.\u001b[0m\u001b[0mreshape\u001b[0m\u001b[0;34m(\u001b[0m\u001b[0;34m-\u001b[0m\u001b[0;36m1\u001b[0m\u001b[0;34m,\u001b[0m\u001b[0;36m1\u001b[0m\u001b[0;34m)\u001b[0m\u001b[0;34m)\u001b[0m\u001b[0;34m\u001b[0m\u001b[0;34m\u001b[0m\u001b[0m\n\u001b[1;32m      5\u001b[0m \u001b[0mY_Calc_Test\u001b[0m\u001b[0;34m=\u001b[0m\u001b[0mScaler_Y\u001b[0m\u001b[0;34m.\u001b[0m\u001b[0minverse_transform\u001b[0m\u001b[0;34m(\u001b[0m\u001b[0mY_Calc_Test\u001b[0m\u001b[0;34m.\u001b[0m\u001b[0mreshape\u001b[0m\u001b[0;34m(\u001b[0m\u001b[0;34m-\u001b[0m\u001b[0;36m1\u001b[0m\u001b[0;34m,\u001b[0m\u001b[0;36m1\u001b[0m\u001b[0;34m)\u001b[0m\u001b[0;34m)\u001b[0m\u001b[0;34m\u001b[0m\u001b[0;34m\u001b[0m\u001b[0m\n",
            "\u001b[0;32m/usr/local/lib/python3.7/dist-packages/sklearn/preprocessing/_data.py\u001b[0m in \u001b[0;36minverse_transform\u001b[0;34m(self, X)\u001b[0m\n\u001b[1;32m    434\u001b[0m                         force_all_finite=\"allow-nan\")\n\u001b[1;32m    435\u001b[0m \u001b[0;34m\u001b[0m\u001b[0m\n\u001b[0;32m--> 436\u001b[0;31m         \u001b[0mX\u001b[0m \u001b[0;34m-=\u001b[0m \u001b[0mself\u001b[0m\u001b[0;34m.\u001b[0m\u001b[0mmin_\u001b[0m\u001b[0;34m\u001b[0m\u001b[0;34m\u001b[0m\u001b[0m\n\u001b[0m\u001b[1;32m    437\u001b[0m         \u001b[0mX\u001b[0m \u001b[0;34m/=\u001b[0m \u001b[0mself\u001b[0m\u001b[0;34m.\u001b[0m\u001b[0mscale_\u001b[0m\u001b[0;34m\u001b[0m\u001b[0;34m\u001b[0m\u001b[0m\n\u001b[1;32m    438\u001b[0m         \u001b[0;32mreturn\u001b[0m \u001b[0mX\u001b[0m\u001b[0;34m\u001b[0m\u001b[0;34m\u001b[0m\u001b[0m\n",
            "\u001b[0;31mValueError\u001b[0m: non-broadcastable output operand with shape (56,1) doesn't match the broadcast shape (56,2)"
          ]
        }
      ]
    },
    {
      "cell_type": "code",
      "metadata": {
        "id": "eBVP0Vw3TfcM"
      },
      "source": [
        "# Expressando os dois dados em figura\n",
        "fig = plt.figure()\n",
        "ax1 = fig.add_subplot(111)\n",
        "ax1.scatter(Y_Obs_Test, Y_Calc_Test, s=10, c='b', marker=\"s\", label='Teste')\n",
        "ax1.scatter(Y_Obs_Train, Y_Calc_Train, s=10, c='r', marker=\"o\", label='Traino')\n",
        "plt.legend(loc='upperleft')\n",
        "plt.xlim([0,3500])\n",
        "plt.ylim([0,3500])\n",
        "plt.ylabel('Recovery Calc')\n",
        "plt.xlabel('Recovery Obs')\n",
        "plt.show()"
      ],
      "execution_count": null,
      "outputs": []
    },
    {
      "cell_type": "code",
      "metadata": {
        "id": "r3joMJaaTlH1"
      },
      "source": [
        "MSE_Recovery_Test=mean_squared_error(Obs_Test_Recovery,Calc_Test_Recovery)\n",
        "print(\"MSE Recovery Teste=\",MSE_Recovery_Test)\n",
        "R2_Recovery_Test=r2_score(Obs_Test_Recovery,Calc_Test_Recovery)\n",
        "print(\"R^2 Recovery Teste=\",R2_Recovery_Test)"
      ],
      "execution_count": null,
      "outputs": []
    },
    {
      "cell_type": "code",
      "metadata": {
        "id": "bBCdfifHTqQd"
      },
      "source": [
        "MSE_Recovery_Train=mean_squared_error(Obs_Train_Recovery,Calc_Train_Recovery)\n",
        "print(\"MSE Recovery Treino=\",MSE_Recovery_Train)\n",
        "R2_Recovery_Train=r2_score(Obs_Train_Recovery,Calc_Train_Recovery)\n",
        "print(\"R^2 Recovery Treino=\",R2_Recovery_Train)"
      ],
      "execution_count": null,
      "outputs": []
    },
    {
      "cell_type": "code",
      "metadata": {
        "id": "NMISDLAbjz9L"
      },
      "source": [
        "# Escolhendo uma das resposta para fazer o gráfico (Teino - Grade)\n",
        "Obs_Train_Grade=[]\n",
        "Calc_Train_Grade=[]\n",
        "Calc_Train_Grade=y_Calc_Train['Grade'].copy()\n",
        "Obs_Train_Grade=Train['Grade'].copy()"
      ],
      "execution_count": null,
      "outputs": []
    },
    {
      "cell_type": "code",
      "metadata": {
        "id": "WgIMBpPYniVs"
      },
      "source": [
        "# Escolhendo uma das resposta para fazer o grafico (Teste- Recovery)\n",
        "Obs_Test_Grade=[]\n",
        "Calc_Test_Grade=[]\n",
        "Calc_Test_Grade=y_Calc_Test['Grade'].copy()\n",
        "Obs_Test_Grade=Test['Grade'].copy()"
      ],
      "execution_count": null,
      "outputs": []
    },
    {
      "cell_type": "code",
      "metadata": {
        "id": "nduwrryJn5MH"
      },
      "source": [
        "# Expressando os dois dados em figura (Grade)\n",
        "fig = plt.figure()\n",
        "ax1 = fig.add_subplot(111)\n",
        "\n",
        "ax1.scatter(Obs_Test_Grade,Calc_Test_Grade, s=10, c='b', marker=\"s\", label='Teste')\n",
        "ax1.scatter(Obs_Train_Grade,Calc_Train_Grade, s=10, c='r', marker=\"o\", label='Treino')\n",
        "plt.legend(loc='upper left')\n",
        "plt.ylabel('Grade Calc')\n",
        "plt.xlabel('Grade Obs')\n",
        "plt.show()"
      ],
      "execution_count": null,
      "outputs": []
    },
    {
      "cell_type": "code",
      "metadata": {
        "id": "hbHEi62tpNPk"
      },
      "source": [
        "MSE_Grade_Test=mean_squared_error(Obs_Test_Grade,Calc_Test_Grade)\n",
        "print(\"MSE Grade Teste=\",MSE_Grade_Test)\n",
        "R2_Grade_Test=r2_score(Obs_Test_Grade,Calc_Test_Grade)\n",
        "print(\"R^2 Grade Teste=\",R2_Grade_Test)"
      ],
      "execution_count": null,
      "outputs": []
    },
    {
      "cell_type": "code",
      "metadata": {
        "id": "VwEpsBObpuX1"
      },
      "source": [
        "MSE_Grade_Train=mean_squared_error(Obs_Train_Grade,Calc_Train_Grade)\n",
        "print(\"MSE Grade Treino=\",MSE_Grade_Train)\n",
        "R2_Grade_Train=r2_score(Obs_Train_Grade,Calc_Train_Grade)\n",
        "print(\"R^2 Grade Treino=\",R2_Grade_Train)"
      ],
      "execution_count": null,
      "outputs": []
    }
  ]
}