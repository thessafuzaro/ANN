{
  "nbformat": 4,
  "nbformat_minor": 0,
  "metadata": {
    "colab": {
      "name": "Projeto_Thessa_versao_4.ipynb",
      "provenance": [],
      "authorship_tag": "ABX9TyOUVUzYSqLqWjg9KEmskLEk",
      "include_colab_link": true
    },
    "kernelspec": {
      "name": "python3",
      "display_name": "Python 3"
    },
    "language_info": {
      "name": "python"
    }
  },
  "cells": [
    {
      "cell_type": "markdown",
      "metadata": {
        "id": "view-in-github",
        "colab_type": "text"
      },
      "source": [
        "<a href=\"https://colab.research.google.com/github/thessafuzaro/ANN/blob/main/Projeto_Thessa_versao_4.ipynb\" target=\"_parent\"><img src=\"https://colab.research.google.com/assets/colab-badge.svg\" alt=\"Open In Colab\"/></a>"
      ]
    },
    {
      "cell_type": "code",
      "metadata": {
        "id": "RvbXkT6Niq-l",
        "colab": {
          "base_uri": "https://localhost:8080/",
          "height": 53
        },
        "outputId": "eaa7d9ce-86b3-46d2-b70a-2ee9beca68a6"
      },
      "source": [
        "'''Primeiro projeto de redes neurais\n",
        "Aluna: Thessa Fuzaro Mendes\n",
        "Artigo: On the optimiation of froth flotation by the use of an artificial neural network [Al-Thyabat S]\n",
        "Data: 11/05/2021'''"
      ],
      "execution_count": 342,
      "outputs": [
        {
          "output_type": "execute_result",
          "data": {
            "application/vnd.google.colaboratory.intrinsic+json": {
              "type": "string"
            },
            "text/plain": [
              "'Primeiro projeto de redes neurais\\nAluna: Thessa Fuzaro Mendes\\nArtigo: On the optimiation of froth flotation by the use of an artificial neural network [Al-Thyabat S]\\nData: 11/05/2021'"
            ]
          },
          "metadata": {
            "tags": []
          },
          "execution_count": 342
        }
      ]
    },
    {
      "cell_type": "code",
      "metadata": {
        "id": "R6aspZiHeEv0"
      },
      "source": [
        "#Bibliotecas necessárias\n",
        "import os\n",
        "import numpy as np   # biblioteca númerica do python\n",
        "import pandas as pd \n",
        "import matplotlib.pyplot as plt\n",
        "from sklearn.neural_network import MLPRegressor\n",
        "from sklearn.model_selection import train_test_split\n",
        "from sklearn.metrics import mean_squared_error\n",
        "from sklearn import preprocessing\n",
        "from sklearn.metrics import r2_score "
      ],
      "execution_count": 343,
      "outputs": []
    },
    {
      "cell_type": "code",
      "metadata": {
        "id": "ST4bAw0QxSum"
      },
      "source": [
        "# para gerar o grafico no browser\n",
        "%matplotlib inline"
      ],
      "execution_count": 344,
      "outputs": []
    },
    {
      "cell_type": "code",
      "metadata": {
        "id": "PIY4zsixyqHX",
        "colab": {
          "base_uri": "https://localhost:8080/"
        },
        "outputId": "ec29a895-590f-4fcf-e99a-93cf233e67ab"
      },
      "source": [
        "!git clone https://github.com/thessafuzaro/ANN\n",
        "%cd ANN"
      ],
      "execution_count": 345,
      "outputs": [
        {
          "output_type": "stream",
          "text": [
            "Cloning into 'ANN'...\n",
            "remote: Enumerating objects: 143, done.\u001b[K\n",
            "remote: Counting objects: 100% (143/143), done.\u001b[K\n",
            "remote: Compressing objects: 100% (141/141), done.\u001b[K\n",
            "remote: Total 143 (delta 84), reused 0 (delta 0), pack-reused 0\u001b[K\n",
            "Receiving objects: 100% (143/143), 207.53 KiB | 2.08 MiB/s, done.\n",
            "Resolving deltas: 100% (84/84), done.\n",
            "/content/ANN/ANN/ANN/ANN/ANN/ANN/ANN/ANN/ANN/ANN/ANN/ANN/ANN\n"
          ],
          "name": "stdout"
        }
      ]
    },
    {
      "cell_type": "code",
      "metadata": {
        "colab": {
          "base_uri": "https://localhost:8080/"
        },
        "id": "E1nKBzh2y2uW",
        "outputId": "6eae58a4-a251-423b-c4b4-f55e025ae030"
      },
      "source": [
        "# leitura dos dados\n",
        "df=pd.read_csv(\"Dados_artigo_redes_neurais_atualizados.csv\", delimiter=';')   # pelo pandas (pd) lê o arquivo no formato csv - arquivo de dados como o excel\n",
        "print (df.head)"
      ],
      "execution_count": 346,
      "outputs": [
        {
          "output_type": "stream",
          "text": [
            "<bound method NDFrame.head of     No    Range  Mean_size  Collector_dosage  Impeller_speed  Recovery  Grade\n",
            "0    1    16-32        750              0.90            1100     98.47  65.18\n",
            "1    2   16-150        553              0.56            1200     92.71  65.36\n",
            "2    3  150-270         79              0.67            1200     68.51  77.53\n",
            "3    4   32-270        277              1.12            1200     93.90  52.68\n",
            "4    5   24-270        380              0.90            1500     82.99  64.29\n",
            "5    6   32-270        277              0.78            1200     95.69  62.93\n",
            "6    7    16-24        854              0.90            1200     94.19  76.38\n",
            "7    8   16-150        553              0.78            1500     66.15  67.67\n",
            "8    9   24-270        380              1.12            1100     97.68  56.07\n",
            "9   10   32-270        277              0.67            1200     98.13  60.60\n",
            "10  11    16-24        854              1.12            1200     97.71  76.91\n",
            "11  12   16-150        553              0.78            1200     96.85  57.70\n",
            "12  13   16-150        553              0.90            1200     97.56  52.85\n",
            "13  14   16-150        553              1.01            1200     97.67  48.50\n",
            "14  15    16-32        750              1.12            1200     98.84  64.43\n",
            "15  16   16-150        553              0.90            1100     91.21  57.13\n",
            "16  17    16-32        750              1.12            1100     96.98  63.12\n",
            "17  18   16-150        553              1.12            1100     96.47  58.90\n",
            "18  19    16-32        750              0.78            1500     95.48  68.50\n",
            "19  20   32-270        277              0.90            1200     95.82  57.30\n",
            "20  21   16-150        553              0.90            1500     89.74  58.27\n",
            "21  22   16-150        553              1.12            1500     96.20  50.46\n",
            "22  23   24-270        380              0.56            1200     78.44  72.64\n",
            "23  24   24-270        380              0.90            1200     94.06  62.71\n",
            "24  25   24-270        380              0.78            1200     97.68  57.17\n",
            "25  26    16-32        750              0.78            1200     96.74  65.58\n",
            "26  27   24-270        380              1.12            1200     95.27  56.41\n",
            "27  28   24-270        380              0.90            1100     97.77  58.39\n",
            "28  29   32-270        277              0.56            1200     93.27  63.94\n",
            "29  30   24-270        380              0.78            1100     92.99  70.24\n",
            "30  31    16-32        750              0.56            1200     94.55  73.83\n",
            "31  32   24-270        380              1.12            1500     92.54  64.37\n",
            "32  33   16-150        553              0.78            1100     97.17  53.64\n",
            "33  34    16-32        750              0.90            1200     98.18  68.44\n",
            "34  35   24-270        380              0.78            1500     97.49  75.22>\n"
          ],
          "name": "stdout"
        }
      ]
    },
    {
      "cell_type": "code",
      "metadata": {
        "id": "t2m5xJhf7nCs"
      },
      "source": [
        "#Selecionando as colunas de interesse:\n",
        "Dat_Select=df.iloc[:,2:]"
      ],
      "execution_count": 347,
      "outputs": []
    },
    {
      "cell_type": "code",
      "metadata": {
        "colab": {
          "base_uri": "https://localhost:8080/",
          "height": 197
        },
        "id": "ArTM3YCbyIxk",
        "outputId": "70b59f97-d56d-47b4-dfc3-092508cbec63"
      },
      "source": [
        "Dat_Select.head (5)"
      ],
      "execution_count": 348,
      "outputs": [
        {
          "output_type": "execute_result",
          "data": {
            "text/html": [
              "<div>\n",
              "<style scoped>\n",
              "    .dataframe tbody tr th:only-of-type {\n",
              "        vertical-align: middle;\n",
              "    }\n",
              "\n",
              "    .dataframe tbody tr th {\n",
              "        vertical-align: top;\n",
              "    }\n",
              "\n",
              "    .dataframe thead th {\n",
              "        text-align: right;\n",
              "    }\n",
              "</style>\n",
              "<table border=\"1\" class=\"dataframe\">\n",
              "  <thead>\n",
              "    <tr style=\"text-align: right;\">\n",
              "      <th></th>\n",
              "      <th>Mean_size</th>\n",
              "      <th>Collector_dosage</th>\n",
              "      <th>Impeller_speed</th>\n",
              "      <th>Recovery</th>\n",
              "      <th>Grade</th>\n",
              "    </tr>\n",
              "  </thead>\n",
              "  <tbody>\n",
              "    <tr>\n",
              "      <th>0</th>\n",
              "      <td>750</td>\n",
              "      <td>0.90</td>\n",
              "      <td>1100</td>\n",
              "      <td>98.47</td>\n",
              "      <td>65.18</td>\n",
              "    </tr>\n",
              "    <tr>\n",
              "      <th>1</th>\n",
              "      <td>553</td>\n",
              "      <td>0.56</td>\n",
              "      <td>1200</td>\n",
              "      <td>92.71</td>\n",
              "      <td>65.36</td>\n",
              "    </tr>\n",
              "    <tr>\n",
              "      <th>2</th>\n",
              "      <td>79</td>\n",
              "      <td>0.67</td>\n",
              "      <td>1200</td>\n",
              "      <td>68.51</td>\n",
              "      <td>77.53</td>\n",
              "    </tr>\n",
              "    <tr>\n",
              "      <th>3</th>\n",
              "      <td>277</td>\n",
              "      <td>1.12</td>\n",
              "      <td>1200</td>\n",
              "      <td>93.90</td>\n",
              "      <td>52.68</td>\n",
              "    </tr>\n",
              "    <tr>\n",
              "      <th>4</th>\n",
              "      <td>380</td>\n",
              "      <td>0.90</td>\n",
              "      <td>1500</td>\n",
              "      <td>82.99</td>\n",
              "      <td>64.29</td>\n",
              "    </tr>\n",
              "  </tbody>\n",
              "</table>\n",
              "</div>"
            ],
            "text/plain": [
              "   Mean_size  Collector_dosage  Impeller_speed  Recovery  Grade\n",
              "0        750              0.90            1100     98.47  65.18\n",
              "1        553              0.56            1200     92.71  65.36\n",
              "2         79              0.67            1200     68.51  77.53\n",
              "3        277              1.12            1200     93.90  52.68\n",
              "4        380              0.90            1500     82.99  64.29"
            ]
          },
          "metadata": {
            "tags": []
          },
          "execution_count": 348
        }
      ]
    },
    {
      "cell_type": "code",
      "metadata": {
        "id": "PmcN4TJO3bK3",
        "colab": {
          "base_uri": "https://localhost:8080/"
        },
        "outputId": "2737042d-b0da-406e-e3ea-2acf92366595"
      },
      "source": [
        "# Separando o s  dados em normatizados e originais:\n",
        "Index=[0,1,2]\n",
        "X=Dat_Select.iloc[:,Index].copy()\n",
        "print(X)\n",
        "Y=Dat_Select.iloc[:,3:].copy()\n",
        "print(Y)"
      ],
      "execution_count": 349,
      "outputs": [
        {
          "output_type": "stream",
          "text": [
            "    Mean_size  Collector_dosage  Impeller_speed\n",
            "0         750              0.90            1100\n",
            "1         553              0.56            1200\n",
            "2          79              0.67            1200\n",
            "3         277              1.12            1200\n",
            "4         380              0.90            1500\n",
            "5         277              0.78            1200\n",
            "6         854              0.90            1200\n",
            "7         553              0.78            1500\n",
            "8         380              1.12            1100\n",
            "9         277              0.67            1200\n",
            "10        854              1.12            1200\n",
            "11        553              0.78            1200\n",
            "12        553              0.90            1200\n",
            "13        553              1.01            1200\n",
            "14        750              1.12            1200\n",
            "15        553              0.90            1100\n",
            "16        750              1.12            1100\n",
            "17        553              1.12            1100\n",
            "18        750              0.78            1500\n",
            "19        277              0.90            1200\n",
            "20        553              0.90            1500\n",
            "21        553              1.12            1500\n",
            "22        380              0.56            1200\n",
            "23        380              0.90            1200\n",
            "24        380              0.78            1200\n",
            "25        750              0.78            1200\n",
            "26        380              1.12            1200\n",
            "27        380              0.90            1100\n",
            "28        277              0.56            1200\n",
            "29        380              0.78            1100\n",
            "30        750              0.56            1200\n",
            "31        380              1.12            1500\n",
            "32        553              0.78            1100\n",
            "33        750              0.90            1200\n",
            "34        380              0.78            1500\n",
            "    Recovery  Grade\n",
            "0      98.47  65.18\n",
            "1      92.71  65.36\n",
            "2      68.51  77.53\n",
            "3      93.90  52.68\n",
            "4      82.99  64.29\n",
            "5      95.69  62.93\n",
            "6      94.19  76.38\n",
            "7      66.15  67.67\n",
            "8      97.68  56.07\n",
            "9      98.13  60.60\n",
            "10     97.71  76.91\n",
            "11     96.85  57.70\n",
            "12     97.56  52.85\n",
            "13     97.67  48.50\n",
            "14     98.84  64.43\n",
            "15     91.21  57.13\n",
            "16     96.98  63.12\n",
            "17     96.47  58.90\n",
            "18     95.48  68.50\n",
            "19     95.82  57.30\n",
            "20     89.74  58.27\n",
            "21     96.20  50.46\n",
            "22     78.44  72.64\n",
            "23     94.06  62.71\n",
            "24     97.68  57.17\n",
            "25     96.74  65.58\n",
            "26     95.27  56.41\n",
            "27     97.77  58.39\n",
            "28     93.27  63.94\n",
            "29     92.99  70.24\n",
            "30     94.55  73.83\n",
            "31     92.54  64.37\n",
            "32     97.17  53.64\n",
            "33     98.18  68.44\n",
            "34     97.49  75.22\n"
          ],
          "name": "stdout"
        }
      ]
    },
    {
      "cell_type": "code",
      "metadata": {
        "id": "p-4ZBfcinnIa"
      },
      "source": [
        "X_Train, X_Test, Y_Train, Y_Test = train_test_split(X,Y,test_size=0.20, shuffle=True, random_state=42)"
      ],
      "execution_count": 350,
      "outputs": []
    },
    {
      "cell_type": "code",
      "metadata": {
        "id": "ReO0r8HgoDZb"
      },
      "source": [
        "Scaler_X = preprocessing.MinMaxScaler((0,1)).fit(X)\n",
        "Scaler_Y= preprocessing.MinMaxScaler((0,1)).fit(Y)"
      ],
      "execution_count": 351,
      "outputs": []
    },
    {
      "cell_type": "code",
      "metadata": {
        "id": "3eJrsOvsoWKM"
      },
      "source": [
        "X_Train = Scaler_X.transform(X_Train)\n",
        "X_Test = Scaler_X.transform(X_Test)\n",
        "Y_Train = Scaler_Y.transform(Y_Train)\n",
        "Y_Test= Scaler_Y.transform(Y_Test)"
      ],
      "execution_count": 352,
      "outputs": []
    },
    {
      "cell_type": "code",
      "metadata": {
        "id": "idB52GbWHGwf"
      },
      "source": [
        "#Definindo a Rede Neural \n",
        "model = MLPRegressor(solver='lbfgs',activation='logistic',alpha=1e-5,max_iter=2000,\n",
        "                     hidden_layer_sizes=(9,12),random_state=6)"
      ],
      "execution_count": 353,
      "outputs": []
    },
    {
      "cell_type": "code",
      "metadata": {
        "id": "1k-E0x-bHejo",
        "colab": {
          "base_uri": "https://localhost:8080/"
        },
        "outputId": "c9cd5380-9b11-475c-eb3b-070fe9bdcc30"
      },
      "source": [
        "#Treinando a Rede Neural\n",
        "model.fit(X_Train, Y_Train)"
      ],
      "execution_count": 354,
      "outputs": [
        {
          "output_type": "stream",
          "text": [
            "/usr/local/lib/python3.7/dist-packages/sklearn/neural_network/_multilayer_perceptron.py:470: ConvergenceWarning: lbfgs failed to converge (status=1):\n",
            "STOP: TOTAL NO. of ITERATIONS REACHED LIMIT.\n",
            "\n",
            "Increase the number of iterations (max_iter) or scale the data as shown in:\n",
            "    https://scikit-learn.org/stable/modules/preprocessing.html\n",
            "  self.n_iter_ = _check_optimize_result(\"lbfgs\", opt_res, self.max_iter)\n"
          ],
          "name": "stderr"
        },
        {
          "output_type": "execute_result",
          "data": {
            "text/plain": [
              "MLPRegressor(activation='logistic', alpha=1e-05, batch_size='auto', beta_1=0.9,\n",
              "             beta_2=0.999, early_stopping=False, epsilon=1e-08,\n",
              "             hidden_layer_sizes=(9, 12), learning_rate='constant',\n",
              "             learning_rate_init=0.001, max_fun=15000, max_iter=2000,\n",
              "             momentum=0.9, n_iter_no_change=10, nesterovs_momentum=True,\n",
              "             power_t=0.5, random_state=6, shuffle=True, solver='lbfgs',\n",
              "             tol=0.0001, validation_fraction=0.1, verbose=False,\n",
              "             warm_start=False)"
            ]
          },
          "metadata": {
            "tags": []
          },
          "execution_count": 354
        }
      ]
    },
    {
      "cell_type": "code",
      "metadata": {
        "id": "Ivzn7KEDS12o"
      },
      "source": [
        "# Usando a rede neural treina em calculos para treino e teste\n",
        "Y_Calc_Train=model.predict(X_Train)\n",
        "Y_Calc_Test=model.predict(X_Test)"
      ],
      "execution_count": 355,
      "outputs": []
    },
    {
      "cell_type": "code",
      "metadata": {
        "id": "HJS4EDLAS4wH"
      },
      "source": [
        "#Transformando a saida da rede na forma original\n",
        "Y_Obs_Train=Scaler_Y.inverse_transform(np.array(Y_Train).reshape(-1,2))\n",
        "Y_Obs_Test=Scaler_Y.inverse_transform(np.array(Y_Test).reshape(-1,2))\n",
        "Y_Calc_Train=Scaler_Y.inverse_transform(Y_Calc_Train.reshape(-1,2))\n",
        "Y_Calc_Test=Scaler_Y.inverse_transform(Y_Calc_Test.reshape(-1,2))"
      ],
      "execution_count": 356,
      "outputs": []
    },
    {
      "cell_type": "code",
      "metadata": {
        "id": "ffBCm0VMB0uR"
      },
      "source": [
        "#Separando a resposta Recovery para treino e teste dos dados observados e calculados\n",
        "Y_Obs_Train_Recovery=Y_Obs_Train[:,0]\n",
        "Y_Obs_Test_Recovery=Y_Obs_Test[:,0]\n",
        "Y_Calc_Train_Recovery=Y_Calc_Train[:,0]\n",
        "Y_Calc_Test_Recovery=Y_Calc_Test[:,0]"
      ],
      "execution_count": 357,
      "outputs": []
    },
    {
      "cell_type": "code",
      "metadata": {
        "id": "eBVP0Vw3TfcM",
        "colab": {
          "base_uri": "https://localhost:8080/",
          "height": 283
        },
        "outputId": "f03204e0-cf20-48ed-f75f-eaa2a8decda1"
      },
      "source": [
        "# Expressando os dois dados em figura para a resposta Recovery\n",
        "fig = plt.figure()\n",
        "ax1 = fig.add_subplot(111)\n",
        "ax1.scatter(Y_Obs_Test_Recovery, Y_Calc_Test_Recovery, s=10, c='b', marker=\"s\", label='Teste')\n",
        "ax1.scatter(Y_Obs_Train_Recovery, Y_Calc_Train_Recovery, s=10, c='r', marker=\"o\", label='Treino')\n",
        "plt.legend(loc='upper left')\n",
        "plt.xlim([0,120])\n",
        "plt.ylim([0,120])\n",
        "plt.ylabel('Recovery Calc')\n",
        "plt.xlabel('Recovery Obs')\n",
        "plt.show()"
      ],
      "execution_count": 358,
      "outputs": [
        {
          "output_type": "display_data",
          "data": {
            "image/png": "[encoded data removed]",
            "text/plain": [
              "<Figure size 432x288 with 1 Axes>"
            ]
          },
          "metadata": {
            "tags": [],
            "needs_background": "light"
          }
        }
      ]
    },
    {
      "cell_type": "code",
      "metadata": {
        "id": "r3joMJaaTlH1",
        "colab": {
          "base_uri": "https://localhost:8080/"
        },
        "outputId": "087df677-936c-4b27-a499-1f244497bcab"
      },
      "source": [
        "MSE_Test_Recovery=mean_squared_error(Y_Obs_Test_Recovery,Y_Calc_Test_Recovery)\n",
        "print(\"MSE Recovery Teste=\",MSE_Test_Recovery)\n",
        "R2_Test_Recovery=r2_score(Y_Obs_Test_Recovery,Y_Calc_Test_Recovery)\n",
        "print(\"R^2 Teste=\",R2_Test_Recovery)"
      ],
      "execution_count": 359,
      "outputs": [
        {
          "output_type": "stream",
          "text": [
            "MSE Recovery Teste= 15.274440881664601\n",
            "R^2 Teste= -2.1066229586649636\n"
          ],
          "name": "stdout"
        }
      ]
    },
    {
      "cell_type": "code",
      "metadata": {
        "id": "bBCdfifHTqQd",
        "colab": {
          "base_uri": "https://localhost:8080/"
        },
        "outputId": "df807894-e9b6-44c5-e491-fc1cbd6c28fb"
      },
      "source": [
        "MSE_Train_Recovery=mean_squared_error(Y_Obs_Train_Recovery,Y_Calc_Train_Recovery)\n",
        "print(\"MSE Treino=\",MSE_Train_Recovery)\n",
        "R2_Train_Recovery=r2_score(Y_Obs_Train_Recovery,Y_Calc_Train_Recovery)\n",
        "print(\"R^2 Treino=\",R2_Train_Recovery)"
      ],
      "execution_count": 360,
      "outputs": [
        {
          "output_type": "stream",
          "text": [
            "MSE Treino= 0.2865754750500762\n",
            "R^2 Treino= 0.9959079096320694\n"
          ],
          "name": "stdout"
        }
      ]
    },
    {
      "cell_type": "code",
      "metadata": {
        "id": "1btScjFVHhSS"
      },
      "source": [
        "#Separando a resposta Grade para treino e teste dos dados observados e calculados\n",
        "Y_Obs_Train_Grade=Y_Obs_Train[:,1]\n",
        "Y_Obs_Test_Grade=Y_Obs_Test[:,1]\n",
        "Y_Calc_Train_Grade=Y_Calc_Train[:,1]\n",
        "Y_Calc_Test_Grade=Y_Calc_Test[:,1]"
      ],
      "execution_count": 361,
      "outputs": []
    },
    {
      "cell_type": "code",
      "metadata": {
        "id": "nduwrryJn5MH",
        "colab": {
          "base_uri": "https://localhost:8080/",
          "height": 278
        },
        "outputId": "5b023766-9760-4142-d612-74908265e012"
      },
      "source": [
        "# Expressando os dois dados em figura (Grade)\n",
        "fig = plt.figure()\n",
        "ax1 = fig.add_subplot(111)\n",
        "\n",
        "ax1.scatter(Y_Obs_Test_Grade,Y_Calc_Test_Grade, s=10, c='m', marker=\"s\", label='Teste')\n",
        "ax1.scatter(Y_Obs_Train_Grade,Y_Calc_Train_Grade, s=10, c='g', marker=\"o\", label='Treino')\n",
        "plt.legend(loc='upper left')\n",
        "plt.ylabel('Grade Calc')\n",
        "plt.xlabel('Grade Obs')\n",
        "plt.show()"
      ],
      "execution_count": 362,
      "outputs": [
        {
          "output_type": "display_data",
          "data": {
            "image/png": "[encoded data removed]",
            "text/plain": [
              "<Figure size 432x288 with 1 Axes>"
            ]
          },
          "metadata": {
            "tags": [],
            "needs_background": "light"
          }
        }
      ]
    },
    {
      "cell_type": "code",
      "metadata": {
        "id": "hbHEi62tpNPk",
        "colab": {
          "base_uri": "https://localhost:8080/"
        },
        "outputId": "07a3ae61-03c4-42e5-b574-cc0664ed34f5"
      },
      "source": [
        "MSE_Grade_Test=mean_squared_error(Y_Obs_Test_Grade,Y_Calc_Test_Grade)\n",
        "print(\"MSE Grade Teste=\",MSE_Grade_Test)\n",
        "R2_Grade_Test=r2_score(Y_Obs_Test_Grade,Y_Calc_Test_Grade)\n",
        "print(\"R^2 Grade Teste=\",R2_Grade_Test)"
      ],
      "execution_count": 363,
      "outputs": [
        {
          "output_type": "stream",
          "text": [
            "MSE Grade Teste= 39.13009570178819\n",
            "R^2 Grade Teste= 0.05660397283135998\n"
          ],
          "name": "stdout"
        }
      ]
    },
    {
      "cell_type": "code",
      "metadata": {
        "id": "VwEpsBObpuX1",
        "colab": {
          "base_uri": "https://localhost:8080/"
        },
        "outputId": "e0929607-0d00-4e6c-93bb-69116f4fee26"
      },
      "source": [
        "MSE_Grade_Train=mean_squared_error(Y_Obs_Train_Grade,Y_Calc_Train_Grade)\n",
        "print(\"MSE Grade Treino=\",MSE_Grade_Train)\n",
        "R2_Grade_Train=r2_score(Y_Obs_Train_Grade,Y_Calc_Train_Grade)\n",
        "print(\"R^2 Grade Treino=\",R2_Grade_Train)"
      ],
      "execution_count": 364,
      "outputs": [
        {
          "output_type": "stream",
          "text": [
            "MSE Grade Treino= 0.16069470301791008\n",
            "R^2 Grade Treino= 0.9968275214413593\n"
          ],
          "name": "stdout"
        }
      ]
    }
  ]
}